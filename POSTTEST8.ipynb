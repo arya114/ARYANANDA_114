{
 "cells": [
  {
   "cell_type": "code",
   "execution_count": 1,
   "id": "d7b971b7",
   "metadata": {},
   "outputs": [],
   "source": [
    "import os\n",
    "import numpy as np\n",
    "import tensorflow as tf\n",
    "import matplotlib.pyplot as plt\n",
    "\n",
    "from tensorflow import keras\n",
    "from tensorflow.keras import layers,optimizers,datasets\n",
    "from tensorflow.keras import Sequential\n",
    "from tensorflow.keras.layers import Dense\n",
    "\n",
    "import warnings\n",
    "warnings.filterwarnings('ignore')"
   ]
  },
  {
   "cell_type": "code",
   "execution_count": 2,
   "id": "6f349f88",
   "metadata": {},
   "outputs": [],
   "source": [
    "x = np.array([1,2,3,4,5,6],dtype = float)\n",
    "y = np.array([2,3,4,8,10,12],dtype= float)"
   ]
  },
  {
   "cell_type": "code",
   "execution_count": 3,
   "id": "81e5c764",
   "metadata": {},
   "outputs": [
    {
     "data": {
      "image/png": "[encoded data removed]",
      "text/plain": [
       "<Figure size 640x480 with 1 Axes>"
      ]
     },
     "metadata": {},
     "output_type": "display_data"
    }
   ],
   "source": [
    "plt.style.use('Solarize_Light2')\n",
    "\n",
    "plt.scatter(x, y)\n",
    "plt.show()"
   ]
  },
  {
   "cell_type": "code",
   "execution_count": 4,
   "id": "0add6eb6",
   "metadata": {},
   "outputs": [],
   "source": [
    "model = tf.keras.Sequential([\n",
    "    tf.keras.layers.Dense(units=1, input_shape=[1])\n",
    "])"
   ]
  },
  {
   "cell_type": "code",
   "execution_count": 5,
   "id": "66201cda",
   "metadata": {},
   "outputs": [],
   "source": [
    "model.compile(optimizer='adam', loss='mae')"
   ]
  },
  {
   "cell_type": "code",
   "execution_count": 6,
   "id": "dc1f5d47",
   "metadata": {},
   "outputs": [
    {
     "name": "stdout",
     "output_type": "stream",
     "text": [
      "Epoch 1/500\n",
      "10/10 [==============================] - 0s 2ms/step - loss: 8.5491\n",
      "Epoch 2/500\n",
      "10/10 [==============================] - 0s 2ms/step - loss: 9.8304\n",
      "Epoch 3/500\n",
      "10/10 [==============================] - 0s 2ms/step - loss: 8.4667\n",
      "Epoch 4/500\n",
      "10/10 [==============================] - 0s 2ms/step - loss: 8.5987\n",
      "Epoch 5/500\n",
      "10/10 [==============================] - 0s 2ms/step - loss: 8.9248\n",
      "Epoch 6/500\n",
      "10/10 [==============================] - 0s 2ms/step - loss: 8.9513\n",
      "Epoch 7/500\n",
      "10/10 [==============================] - 0s 2ms/step - loss: 9.8038\n",
      "Epoch 8/500\n",
      "10/10 [==============================] - 0s 3ms/step - loss: 7.9032\n",
      "Epoch 9/500\n",
      "10/10 [==============================] - 0s 2ms/step - loss: 8.3934\n",
      "Epoch 10/500\n",
      "10/10 [==============================] - 0s 2ms/step - loss: 7.9915\n",
      "Epoch 11/500\n",
      "10/10 [==============================] - 0s 2ms/step - loss: 9.6255\n",
      "Epoch 12/500\n",
      "10/10 [==============================] - 0s 2ms/step - loss: 8.1108\n",
      "Epoch 13/500\n",
      "10/10 [==============================] - 0s 2ms/step - loss: 8.3329\n",
      "Epoch 14/500\n",
      "10/10 [==============================] - 0s 2ms/step - loss: 8.3526\n",
      "Epoch 15/500\n",
      "10/10 [==============================] - 0s 2ms/step - loss: 8.6686\n",
      "Epoch 16/500\n",
      "10/10 [==============================] - 0s 2ms/step - loss: 8.3692\n",
      "Epoch 17/500\n",
      "10/10 [==============================] - 0s 2ms/step - loss: 8.9401\n",
      "Epoch 18/500\n",
      "10/10 [==============================] - 0s 3ms/step - loss: 7.6733\n",
      "Epoch 19/500\n",
      "10/10 [==============================] - 0s 2ms/step - loss: 7.6352\n",
      "Epoch 20/500\n",
      "10/10 [==============================] - 0s 2ms/step - loss: 9.9267\n",
      "Epoch 21/500\n",
      "10/10 [==============================] - 0s 2ms/step - loss: 7.0463\n",
      "Epoch 22/500\n",
      "10/10 [==============================] - 0s 2ms/step - loss: 7.5152\n",
      "Epoch 23/500\n",
      "10/10 [==============================] - 0s 2ms/step - loss: 9.2847\n",
      "Epoch 24/500\n",
      "10/10 [==============================] - 0s 2ms/step - loss: 7.4350\n",
      "Epoch 25/500\n",
      "10/10 [==============================] - 0s 2ms/step - loss: 7.3966\n",
      "Epoch 26/500\n",
      "10/10 [==============================] - 0s 1ms/step - loss: 8.4043\n",
      "Epoch 27/500\n",
      "10/10 [==============================] - 0s 2ms/step - loss: 8.0621\n",
      "Epoch 28/500\n",
      "10/10 [==============================] - 0s 3ms/step - loss: 8.7107\n",
      "Epoch 29/500\n",
      "10/10 [==============================] - 0s 2ms/step - loss: 6.5978\n",
      "Epoch 30/500\n",
      "10/10 [==============================] - 0s 2ms/step - loss: 8.1805\n",
      "Epoch 31/500\n",
      "10/10 [==============================] - 0s 2ms/step - loss: 6.9145\n",
      "Epoch 32/500\n",
      "10/10 [==============================] - 0s 2ms/step - loss: 8.5366\n",
      "Epoch 33/500\n",
      "10/10 [==============================] - 0s 2ms/step - loss: 7.6637\n",
      "Epoch 34/500\n",
      "10/10 [==============================] - 0s 2ms/step - loss: 7.5223\n",
      "Epoch 35/500\n",
      "10/10 [==============================] - 0s 2ms/step - loss: 7.3006\n",
      "Epoch 36/500\n",
      "10/10 [==============================] - 0s 2ms/step - loss: 7.9202\n",
      "Epoch 37/500\n",
      "10/10 [==============================] - 0s 2ms/step - loss: 7.3983\n",
      "Epoch 38/500\n",
      "10/10 [==============================] - 0s 2ms/step - loss: 7.9318\n",
      "Epoch 39/500\n",
      "10/10 [==============================] - 0s 2ms/step - loss: 7.0407\n",
      "Epoch 40/500\n",
      "10/10 [==============================] - 0s 2ms/step - loss: 7.2728\n",
      "Epoch 41/500\n",
      "10/10 [==============================] - 0s 2ms/step - loss: 7.0625\n",
      "Epoch 42/500\n",
      "10/10 [==============================] - 0s 2ms/step - loss: 7.6608\n",
      "Epoch 43/500\n",
      "10/10 [==============================] - 0s 2ms/step - loss: 6.2161\n",
      "Epoch 44/500\n",
      "10/10 [==============================] - 0s 2ms/step - loss: 9.2692\n",
      "Epoch 45/500\n",
      "10/10 [==============================] - 0s 3ms/step - loss: 6.1391\n",
      "Epoch 46/500\n",
      "10/10 [==============================] - 0s 3ms/step - loss: 7.9162\n",
      "Epoch 47/500\n",
      "10/10 [==============================] - 0s 3ms/step - loss: 5.3733\n",
      "Epoch 48/500\n",
      "10/10 [==============================] - 0s 3ms/step - loss: 7.9605\n",
      "Epoch 49/500\n",
      "10/10 [==============================] - 0s 3ms/step - loss: 7.7837\n",
      "Epoch 50/500\n",
      "10/10 [==============================] - 0s 3ms/step - loss: 6.0766\n",
      "Epoch 51/500\n",
      "10/10 [==============================] - 0s 3ms/step - loss: 7.0172\n",
      "Epoch 52/500\n",
      "10/10 [==============================] - 0s 4ms/step - loss: 6.7513\n",
      "Epoch 53/500\n",
      "10/10 [==============================] - 0s 3ms/step - loss: 7.5080\n",
      "Epoch 54/500\n",
      "10/10 [==============================] - 0s 3ms/step - loss: 6.2446\n",
      "Epoch 55/500\n",
      "10/10 [==============================] - 0s 3ms/step - loss: 5.9859\n",
      "Epoch 56/500\n",
      "10/10 [==============================] - 0s 3ms/step - loss: 7.5763\n",
      "Epoch 57/500\n",
      "10/10 [==============================] - 0s 3ms/step - loss: 6.5706\n",
      "Epoch 58/500\n",
      "10/10 [==============================] - 0s 3ms/step - loss: 6.8471\n",
      "Epoch 59/500\n",
      "10/10 [==============================] - 0s 4ms/step - loss: 5.4915\n",
      "Epoch 60/500\n",
      "10/10 [==============================] - 0s 3ms/step - loss: 7.4184\n",
      "Epoch 61/500\n",
      "10/10 [==============================] - 0s 3ms/step - loss: 7.3722\n",
      "Epoch 62/500\n",
      "10/10 [==============================] - 0s 3ms/step - loss: 5.8095\n",
      "Epoch 63/500\n",
      "10/10 [==============================] - 0s 3ms/step - loss: 6.2045\n",
      "Epoch 64/500\n",
      "10/10 [==============================] - 0s 3ms/step - loss: 6.2650\n",
      "Epoch 65/500\n",
      "10/10 [==============================] - 0s 4ms/step - loss: 6.3509\n",
      "Epoch 66/500\n",
      "10/10 [==============================] - 0s 3ms/step - loss: 6.3964\n",
      "Epoch 67/500\n",
      "10/10 [==============================] - 0s 3ms/step - loss: 6.1429\n",
      "Epoch 68/500\n",
      "10/10 [==============================] - 0s 3ms/step - loss: 6.4354\n",
      "Epoch 69/500\n",
      "10/10 [==============================] - 0s 4ms/step - loss: 6.0606\n",
      "Epoch 70/500\n",
      "10/10 [==============================] - 0s 3ms/step - loss: 5.9224\n",
      "Epoch 71/500\n",
      "10/10 [==============================] - 0s 4ms/step - loss: 6.3971\n",
      "Epoch 72/500\n",
      "10/10 [==============================] - 0s 3ms/step - loss: 5.9474\n",
      "Epoch 73/500\n",
      "10/10 [==============================] - 0s 4ms/step - loss: 6.0057\n",
      "Epoch 74/500\n",
      "10/10 [==============================] - 0s 3ms/step - loss: 5.6540\n",
      "Epoch 75/500\n",
      "10/10 [==============================] - 0s 3ms/step - loss: 6.2334\n",
      "Epoch 76/500\n",
      "10/10 [==============================] - 0s 4ms/step - loss: 6.5917\n",
      "Epoch 77/500\n",
      "10/10 [==============================] - 0s 3ms/step - loss: 6.0405\n",
      "Epoch 78/500\n",
      "10/10 [==============================] - 0s 3ms/step - loss: 4.8880\n",
      "Epoch 79/500\n",
      "10/10 [==============================] - 0s 4ms/step - loss: 5.6561\n",
      "Epoch 80/500\n",
      "10/10 [==============================] - 0s 3ms/step - loss: 5.7169\n",
      "Epoch 81/500\n",
      "10/10 [==============================] - 0s 4ms/step - loss: 5.7731\n",
      "Epoch 82/500\n",
      "10/10 [==============================] - 0s 3ms/step - loss: 6.4266\n",
      "Epoch 83/500\n",
      "10/10 [==============================] - 0s 3ms/step - loss: 4.8994\n",
      "Epoch 84/500\n",
      "10/10 [==============================] - 0s 3ms/step - loss: 5.4495\n",
      "Epoch 85/500\n",
      "10/10 [==============================] - 0s 3ms/step - loss: 5.0161\n",
      "Epoch 86/500\n",
      "10/10 [==============================] - 0s 4ms/step - loss: 6.8370\n",
      "Epoch 87/500\n",
      "10/10 [==============================] - 0s 3ms/step - loss: 4.5474\n",
      "Epoch 88/500\n",
      "10/10 [==============================] - 0s 3ms/step - loss: 5.2839\n",
      "Epoch 89/500\n",
      "10/10 [==============================] - 0s 3ms/step - loss: 4.7665\n",
      "Epoch 90/500\n",
      "10/10 [==============================] - 0s 3ms/step - loss: 5.9760\n",
      "Epoch 91/500\n",
      "10/10 [==============================] - 0s 3ms/step - loss: 5.2603\n",
      "Epoch 92/500\n",
      "10/10 [==============================] - 0s 3ms/step - loss: 5.1183\n",
      "Epoch 93/500\n",
      "10/10 [==============================] - 0s 3ms/step - loss: 5.2769\n",
      "Epoch 94/500\n",
      "10/10 [==============================] - 0s 4ms/step - loss: 4.4723\n",
      "Epoch 95/500\n",
      "10/10 [==============================] - 0s 3ms/step - loss: 5.0116\n",
      "Epoch 96/500\n",
      "10/10 [==============================] - 0s 4ms/step - loss: 5.7975\n",
      "Epoch 97/500\n",
      "10/10 [==============================] - 0s 3ms/step - loss: 5.7507\n",
      "Epoch 98/500\n",
      "10/10 [==============================] - 0s 3ms/step - loss: 4.4150\n",
      "Epoch 99/500\n",
      "10/10 [==============================] - 0s 3ms/step - loss: 4.7436\n",
      "Epoch 100/500\n",
      "10/10 [==============================] - 0s 4ms/step - loss: 4.9870\n",
      "Epoch 101/500\n",
      "10/10 [==============================] - 0s 3ms/step - loss: 4.9254\n",
      "Epoch 102/500\n"
     ]
    },
    {
     "name": "stdout",
     "output_type": "stream",
     "text": [
      "10/10 [==============================] - 0s 3ms/step - loss: 4.6220\n",
      "Epoch 103/500\n",
      "10/10 [==============================] - 0s 4ms/step - loss: 4.7626\n",
      "Epoch 104/500\n",
      "10/10 [==============================] - 0s 3ms/step - loss: 4.7990\n",
      "Epoch 105/500\n",
      "10/10 [==============================] - 0s 3ms/step - loss: 4.6011\n",
      "Epoch 106/500\n",
      "10/10 [==============================] - 0s 3ms/step - loss: 5.3452\n",
      "Epoch 107/500\n",
      "10/10 [==============================] - 0s 3ms/step - loss: 3.1871\n",
      "Epoch 108/500\n",
      "10/10 [==============================] - 0s 3ms/step - loss: 5.2571\n",
      "Epoch 109/500\n",
      "10/10 [==============================] - 0s 3ms/step - loss: 4.5877\n",
      "Epoch 110/500\n",
      "10/10 [==============================] - 0s 3ms/step - loss: 4.2978\n",
      "Epoch 111/500\n",
      "10/10 [==============================] - 0s 3ms/step - loss: 4.5298\n",
      "Epoch 112/500\n",
      "10/10 [==============================] - 0s 3ms/step - loss: 4.2895\n",
      "Epoch 113/500\n",
      "10/10 [==============================] - 0s 4ms/step - loss: 4.6187\n",
      "Epoch 114/500\n",
      "10/10 [==============================] - 0s 3ms/step - loss: 4.1352\n",
      "Epoch 115/500\n",
      "10/10 [==============================] - 0s 3ms/step - loss: 4.8025\n",
      "Epoch 116/500\n",
      "10/10 [==============================] - 0s 4ms/step - loss: 4.1211\n",
      "Epoch 117/500\n",
      "10/10 [==============================] - 0s 3ms/step - loss: 3.7466\n",
      "Epoch 118/500\n",
      "10/10 [==============================] - 0s 4ms/step - loss: 4.0408\n",
      "Epoch 119/500\n",
      "10/10 [==============================] - 0s 3ms/step - loss: 3.5390\n",
      "Epoch 120/500\n",
      "10/10 [==============================] - 0s 3ms/step - loss: 4.7175\n",
      "Epoch 121/500\n",
      "10/10 [==============================] - 0s 3ms/step - loss: 4.5416\n",
      "Epoch 122/500\n",
      "10/10 [==============================] - 0s 3ms/step - loss: 3.6726\n",
      "Epoch 123/500\n",
      "10/10 [==============================] - 0s 3ms/step - loss: 3.7098\n",
      "Epoch 124/500\n",
      "10/10 [==============================] - 0s 3ms/step - loss: 3.9509\n",
      "Epoch 125/500\n",
      "10/10 [==============================] - 0s 4ms/step - loss: 3.9491\n",
      "Epoch 126/500\n",
      "10/10 [==============================] - 0s 4ms/step - loss: 3.6498\n",
      "Epoch 127/500\n",
      "10/10 [==============================] - 0s 3ms/step - loss: 3.0359\n",
      "Epoch 128/500\n",
      "10/10 [==============================] - 0s 3ms/step - loss: 4.8701\n",
      "Epoch 129/500\n",
      "10/10 [==============================] - 0s 5ms/step - loss: 3.2714\n",
      "Epoch 130/500\n",
      "10/10 [==============================] - 0s 3ms/step - loss: 3.2328\n",
      "Epoch 131/500\n",
      "10/10 [==============================] - 0s 3ms/step - loss: 4.5746\n",
      "Epoch 132/500\n",
      "10/10 [==============================] - 0s 3ms/step - loss: 2.9984\n",
      "Epoch 133/500\n",
      "10/10 [==============================] - 0s 4ms/step - loss: 4.1269\n",
      "Epoch 134/500\n",
      "10/10 [==============================] - 0s 3ms/step - loss: 3.0195\n",
      "Epoch 135/500\n",
      "10/10 [==============================] - 0s 4ms/step - loss: 3.2843\n",
      "Epoch 136/500\n",
      "10/10 [==============================] - 0s 4ms/step - loss: 3.9429\n",
      "Epoch 137/500\n",
      "10/10 [==============================] - 0s 4ms/step - loss: 3.0014\n",
      "Epoch 138/500\n",
      "10/10 [==============================] - 0s 4ms/step - loss: 3.1135\n",
      "Epoch 139/500\n",
      "10/10 [==============================] - 0s 4ms/step - loss: 3.4162\n",
      "Epoch 140/500\n",
      "10/10 [==============================] - 0s 4ms/step - loss: 2.5893\n",
      "Epoch 141/500\n",
      "10/10 [==============================] - 0s 4ms/step - loss: 3.6791\n",
      "Epoch 142/500\n",
      "10/10 [==============================] - 0s 3ms/step - loss: 3.0009\n",
      "Epoch 143/500\n",
      "10/10 [==============================] - 0s 3ms/step - loss: 3.2920\n",
      "Epoch 144/500\n",
      "10/10 [==============================] - 0s 3ms/step - loss: 3.0224\n",
      "Epoch 145/500\n",
      "10/10 [==============================] - 0s 3ms/step - loss: 3.1741\n",
      "Epoch 146/500\n",
      "10/10 [==============================] - 0s 3ms/step - loss: 3.5174\n",
      "Epoch 147/500\n",
      "10/10 [==============================] - 0s 3ms/step - loss: 2.3117\n",
      "Epoch 148/500\n",
      "10/10 [==============================] - 0s 3ms/step - loss: 2.8062\n",
      "Epoch 149/500\n",
      "10/10 [==============================] - 0s 4ms/step - loss: 3.1754\n",
      "Epoch 150/500\n",
      "10/10 [==============================] - 0s 4ms/step - loss: 2.7472\n",
      "Epoch 151/500\n",
      "10/10 [==============================] - 0s 4ms/step - loss: 2.9950\n",
      "Epoch 152/500\n",
      "10/10 [==============================] - 0s 3ms/step - loss: 2.5286\n",
      "Epoch 153/500\n",
      "10/10 [==============================] - 0s 3ms/step - loss: 2.9362\n",
      "Epoch 154/500\n",
      "10/10 [==============================] - 0s 3ms/step - loss: 2.9044\n",
      "Epoch 155/500\n",
      "10/10 [==============================] - 0s 3ms/step - loss: 2.1030\n",
      "Epoch 156/500\n",
      "10/10 [==============================] - 0s 3ms/step - loss: 3.1766\n",
      "Epoch 157/500\n",
      "10/10 [==============================] - 0s 2ms/step - loss: 2.0538\n",
      "Epoch 158/500\n",
      "10/10 [==============================] - 0s 3ms/step - loss: 3.8601\n",
      "Epoch 159/500\n",
      "10/10 [==============================] - 0s 4ms/step - loss: 2.0018\n",
      "Epoch 160/500\n",
      "10/10 [==============================] - 0s 3ms/step - loss: 2.6931\n",
      "Epoch 161/500\n",
      "10/10 [==============================] - 0s 3ms/step - loss: 3.0263\n",
      "Epoch 162/500\n",
      "10/10 [==============================] - 0s 3ms/step - loss: 1.9243\n",
      "Epoch 163/500\n",
      "10/10 [==============================] - 0s 3ms/step - loss: 2.4849\n",
      "Epoch 164/500\n",
      "10/10 [==============================] - 0s 3ms/step - loss: 2.3736\n",
      "Epoch 165/500\n",
      "10/10 [==============================] - 0s 4ms/step - loss: 2.5753\n",
      "Epoch 166/500\n",
      "10/10 [==============================] - 0s 4ms/step - loss: 2.4539\n",
      "Epoch 167/500\n",
      "10/10 [==============================] - 0s 3ms/step - loss: 2.4276\n",
      "Epoch 168/500\n",
      "10/10 [==============================] - 0s 3ms/step - loss: 2.3944\n",
      "Epoch 169/500\n",
      "10/10 [==============================] - 0s 4ms/step - loss: 2.3989\n",
      "Epoch 170/500\n",
      "10/10 [==============================] - 0s 3ms/step - loss: 2.4780\n",
      "Epoch 171/500\n",
      "10/10 [==============================] - 0s 4ms/step - loss: 2.2475\n",
      "Epoch 172/500\n",
      "10/10 [==============================] - 0s 3ms/step - loss: 2.2344\n",
      "Epoch 173/500\n",
      "10/10 [==============================] - 0s 4ms/step - loss: 2.3048\n",
      "Epoch 174/500\n",
      "10/10 [==============================] - 0s 3ms/step - loss: 2.4285\n",
      "Epoch 175/500\n",
      "10/10 [==============================] - 0s 4ms/step - loss: 2.3951\n",
      "Epoch 176/500\n",
      "10/10 [==============================] - 0s 3ms/step - loss: 2.4834\n",
      "Epoch 177/500\n",
      "10/10 [==============================] - 0s 3ms/step - loss: 1.9900\n",
      "Epoch 178/500\n",
      "10/10 [==============================] - 0s 3ms/step - loss: 2.2774\n",
      "Epoch 179/500\n",
      "10/10 [==============================] - 0s 3ms/step - loss: 2.2717\n",
      "Epoch 180/500\n",
      "10/10 [==============================] - 0s 3ms/step - loss: 2.2645\n",
      "Epoch 181/500\n",
      "10/10 [==============================] - 0s 3ms/step - loss: 2.2777\n",
      "Epoch 182/500\n",
      "10/10 [==============================] - 0s 3ms/step - loss: 2.1206\n",
      "Epoch 183/500\n",
      "10/10 [==============================] - 0s 3ms/step - loss: 2.3652\n",
      "Epoch 184/500\n",
      "10/10 [==============================] - 0s 3ms/step - loss: 1.7343\n",
      "Epoch 185/500\n",
      "10/10 [==============================] - 0s 3ms/step - loss: 2.3391\n",
      "Epoch 186/500\n",
      "10/10 [==============================] - 0s 4ms/step - loss: 2.6364\n",
      "Epoch 187/500\n",
      "10/10 [==============================] - 0s 3ms/step - loss: 2.3547\n",
      "Epoch 188/500\n",
      "10/10 [==============================] - 0s 4ms/step - loss: 2.3558\n",
      "Epoch 189/500\n",
      "10/10 [==============================] - 0s 3ms/step - loss: 1.9483\n",
      "Epoch 190/500\n",
      "10/10 [==============================] - 0s 3ms/step - loss: 2.1949\n",
      "Epoch 191/500\n",
      "10/10 [==============================] - 0s 3ms/step - loss: 1.8302\n",
      "Epoch 192/500\n",
      "10/10 [==============================] - 0s 3ms/step - loss: 2.5808\n",
      "Epoch 193/500\n",
      "10/10 [==============================] - 0s 3ms/step - loss: 2.5708\n",
      "Epoch 194/500\n",
      "10/10 [==============================] - 0s 3ms/step - loss: 2.0579\n",
      "Epoch 195/500\n",
      "10/10 [==============================] - 0s 3ms/step - loss: 1.9271\n",
      "Epoch 196/500\n",
      "10/10 [==============================] - 0s 4ms/step - loss: 2.0509\n",
      "Epoch 197/500\n",
      "10/10 [==============================] - 0s 3ms/step - loss: 2.5352\n",
      "Epoch 198/500\n",
      "10/10 [==============================] - 0s 3ms/step - loss: 1.9167\n",
      "Epoch 199/500\n",
      "10/10 [==============================] - 0s 3ms/step - loss: 2.2565\n",
      "Epoch 200/500\n",
      "10/10 [==============================] - 0s 3ms/step - loss: 2.1502\n",
      "Epoch 201/500\n",
      "10/10 [==============================] - 0s 3ms/step - loss: 2.0438\n",
      "Epoch 202/500\n"
     ]
    },
    {
     "name": "stdout",
     "output_type": "stream",
     "text": [
      "10/10 [==============================] - 0s 3ms/step - loss: 2.2392\n",
      "Epoch 203/500\n",
      "10/10 [==============================] - 0s 3ms/step - loss: 1.6933\n",
      "Epoch 204/500\n",
      "10/10 [==============================] - 0s 3ms/step - loss: 2.4663\n",
      "Epoch 205/500\n",
      "10/10 [==============================] - 0s 3ms/step - loss: 1.7863\n",
      "Epoch 206/500\n",
      "10/10 [==============================] - 0s 3ms/step - loss: 2.1105\n",
      "Epoch 207/500\n",
      "10/10 [==============================] - 0s 3ms/step - loss: 2.4503\n",
      "Epoch 208/500\n",
      "10/10 [==============================] - 0s 4ms/step - loss: 2.0036\n",
      "Epoch 209/500\n",
      "10/10 [==============================] - 0s 4ms/step - loss: 2.0984\n",
      "Epoch 210/500\n",
      "10/10 [==============================] - 0s 4ms/step - loss: 2.1919\n",
      "Epoch 211/500\n",
      "10/10 [==============================] - 0s 4ms/step - loss: 2.1931\n",
      "Epoch 212/500\n",
      "10/10 [==============================] - 0s 4ms/step - loss: 2.0854\n",
      "Epoch 213/500\n",
      "10/10 [==============================] - 0s 4ms/step - loss: 1.9655\n",
      "Epoch 214/500\n",
      "10/10 [==============================] - 0s 3ms/step - loss: 1.9595\n",
      "Epoch 215/500\n",
      "10/10 [==============================] - 0s 4ms/step - loss: 2.1685\n",
      "Epoch 216/500\n",
      "10/10 [==============================] - 0s 4ms/step - loss: 2.0618\n",
      "Epoch 217/500\n",
      "10/10 [==============================] - 0s 4ms/step - loss: 2.0490\n",
      "Epoch 218/500\n",
      "10/10 [==============================] - 0s 4ms/step - loss: 1.9458\n",
      "Epoch 219/500\n",
      "10/10 [==============================] - 0s 4ms/step - loss: 2.1441\n",
      "Epoch 220/500\n",
      "10/10 [==============================] - 0s 4ms/step - loss: 2.3265\n",
      "Epoch 221/500\n",
      "10/10 [==============================] - 0s 3ms/step - loss: 1.4434\n",
      "Epoch 222/500\n",
      "10/10 [==============================] - 0s 3ms/step - loss: 2.3167\n",
      "Epoch 223/500\n",
      "10/10 [==============================] - 0s 3ms/step - loss: 1.9160\n",
      "Epoch 224/500\n",
      "10/10 [==============================] - 0s 3ms/step - loss: 2.3960\n",
      "Epoch 225/500\n",
      "10/10 [==============================] - 0s 3ms/step - loss: 1.7229\n",
      "Epoch 226/500\n",
      "10/10 [==============================] - 0s 3ms/step - loss: 2.1004\n",
      "Epoch 227/500\n",
      "10/10 [==============================] - 0s 3ms/step - loss: 1.6187\n",
      "Epoch 228/500\n",
      "10/10 [==============================] - 0s 3ms/step - loss: 2.2642\n",
      "Epoch 229/500\n",
      "10/10 [==============================] - 0s 3ms/step - loss: 1.8817\n",
      "Epoch 230/500\n",
      "10/10 [==============================] - 0s 3ms/step - loss: 2.2460\n",
      "Epoch 231/500\n",
      "10/10 [==============================] - 0s 3ms/step - loss: 1.8036\n",
      "Epoch 232/500\n",
      "10/10 [==============================] - 0s 3ms/step - loss: 1.9643\n",
      "Epoch 233/500\n",
      "10/10 [==============================] - 0s 3ms/step - loss: 2.0532\n",
      "Epoch 234/500\n",
      "10/10 [==============================] - 0s 3ms/step - loss: 1.8597\n",
      "Epoch 235/500\n",
      "10/10 [==============================] - 0s 3ms/step - loss: 2.0409\n",
      "Epoch 236/500\n",
      "10/10 [==============================] - 0s 4ms/step - loss: 1.8454\n",
      "Epoch 237/500\n",
      "10/10 [==============================] - 0s 3ms/step - loss: 1.9399\n",
      "Epoch 238/500\n",
      "10/10 [==============================] - 0s 3ms/step - loss: 2.1816\n",
      "Epoch 239/500\n",
      "10/10 [==============================] - 0s 3ms/step - loss: 2.0122\n",
      "Epoch 240/500\n",
      "10/10 [==============================] - 0s 4ms/step - loss: 1.5823\n",
      "Epoch 241/500\n",
      "10/10 [==============================] - 0s 3ms/step - loss: 1.8187\n",
      "Epoch 242/500\n",
      "10/10 [==============================] - 0s 4ms/step - loss: 2.0889\n",
      "Epoch 243/500\n",
      "10/10 [==============================] - 0s 4ms/step - loss: 1.8137\n",
      "Epoch 244/500\n",
      "10/10 [==============================] - 0s 3ms/step - loss: 1.7592\n",
      "Epoch 245/500\n",
      "10/10 [==============================] - 0s 3ms/step - loss: 2.3466\n",
      "Epoch 246/500\n",
      "10/10 [==============================] - 0s 4ms/step - loss: 1.5651\n",
      "Epoch 247/500\n",
      "10/10 [==============================] - 0s 4ms/step - loss: 2.1001\n",
      "Epoch 248/500\n",
      "10/10 [==============================] - 0s 3ms/step - loss: 1.4245\n",
      "Epoch 249/500\n",
      "10/10 [==============================] - 0s 3ms/step - loss: 2.0939\n",
      "Epoch 250/500\n",
      "10/10 [==============================] - 0s 4ms/step - loss: 1.8522\n",
      "Epoch 251/500\n",
      "10/10 [==============================] - 0s 3ms/step - loss: 1.6540\n",
      "Epoch 252/500\n",
      "10/10 [==============================] - 0s 4ms/step - loss: 2.0616\n",
      "Epoch 253/500\n",
      "10/10 [==============================] - 0s 3ms/step - loss: 2.0499\n",
      "Epoch 254/500\n",
      "10/10 [==============================] - 0s 3ms/step - loss: 1.7223\n",
      "Epoch 255/500\n",
      "10/10 [==============================] - 0s 4ms/step - loss: 1.7435\n",
      "Epoch 256/500\n",
      "10/10 [==============================] - 0s 4ms/step - loss: 1.8385\n",
      "Epoch 257/500\n",
      "10/10 [==============================] - 0s 4ms/step - loss: 1.8081\n",
      "Epoch 258/500\n",
      "10/10 [==============================] - 0s 4ms/step - loss: 1.8145\n",
      "Epoch 259/500\n",
      "10/10 [==============================] - 0s 3ms/step - loss: 1.7222\n",
      "Epoch 260/500\n",
      "10/10 [==============================] - 0s 3ms/step - loss: 1.7047\n",
      "Epoch 261/500\n",
      "10/10 [==============================] - 0s 3ms/step - loss: 1.9838\n",
      "Epoch 262/500\n",
      "10/10 [==============================] - 0s 4ms/step - loss: 1.7922\n",
      "Epoch 263/500\n",
      "10/10 [==============================] - 0s 4ms/step - loss: 1.8860\n",
      "Epoch 264/500\n",
      "10/10 [==============================] - 0s 4ms/step - loss: 1.6805\n",
      "Epoch 265/500\n",
      "10/10 [==============================] - 0s 4ms/step - loss: 1.7597\n",
      "Epoch 266/500\n",
      "10/10 [==============================] - 0s 3ms/step - loss: 1.8005\n",
      "Epoch 267/500\n",
      "10/10 [==============================] - 0s 4ms/step - loss: 1.7465\n",
      "Epoch 268/500\n",
      "10/10 [==============================] - 0s 3ms/step - loss: 1.8410\n",
      "Epoch 269/500\n",
      "10/10 [==============================] - 0s 4ms/step - loss: 1.6514\n",
      "Epoch 270/500\n",
      "10/10 [==============================] - 0s 4ms/step - loss: 1.7620\n",
      "Epoch 271/500\n",
      "10/10 [==============================] - 0s 3ms/step - loss: 1.7575\n",
      "Epoch 272/500\n",
      "10/10 [==============================] - 0s 3ms/step - loss: 1.8711\n",
      "Epoch 273/500\n",
      "10/10 [==============================] - 0s 3ms/step - loss: 1.5746\n",
      "Epoch 274/500\n",
      "10/10 [==============================] - 0s 3ms/step - loss: 1.5731\n",
      "Epoch 275/500\n",
      "10/10 [==============================] - 0s 3ms/step - loss: 1.7200\n",
      "Epoch 276/500\n",
      "10/10 [==============================] - 0s 4ms/step - loss: 1.8569\n",
      "Epoch 277/500\n",
      "10/10 [==============================] - 0s 3ms/step - loss: 1.6857\n",
      "Epoch 278/500\n",
      "10/10 [==============================] - 0s 3ms/step - loss: 1.9373\n",
      "Epoch 279/500\n",
      "10/10 [==============================] - 0s 3ms/step - loss: 1.4775\n",
      "Epoch 280/500\n",
      "10/10 [==============================] - 0s 3ms/step - loss: 1.8404\n",
      "Epoch 281/500\n",
      "10/10 [==============================] - 0s 3ms/step - loss: 1.5871\n",
      "Epoch 282/500\n",
      "10/10 [==============================] - 0s 4ms/step - loss: 1.6187\n",
      "Epoch 283/500\n",
      "10/10 [==============================] - 0s 3ms/step - loss: 1.7726\n",
      "Epoch 284/500\n",
      "10/10 [==============================] - 0s 3ms/step - loss: 1.6633\n",
      "Epoch 285/500\n",
      "10/10 [==============================] - 0s 3ms/step - loss: 1.5583\n",
      "Epoch 286/500\n",
      "10/10 [==============================] - 0s 5ms/step - loss: 1.7701\n",
      "Epoch 287/500\n",
      "10/10 [==============================] - 0s 3ms/step - loss: 1.5552\n",
      "Epoch 288/500\n",
      "10/10 [==============================] - 0s 3ms/step - loss: 1.6177\n",
      "Epoch 289/500\n",
      "10/10 [==============================] - 0s 3ms/step - loss: 1.6109\n",
      "Epoch 290/500\n",
      "10/10 [==============================] - 0s 3ms/step - loss: 1.6043\n",
      "Epoch 291/500\n",
      "10/10 [==============================] - 0s 3ms/step - loss: 1.6747\n",
      "Epoch 292/500\n",
      "10/10 [==============================] - 0s 3ms/step - loss: 1.7449\n",
      "Epoch 293/500\n",
      "10/10 [==============================] - 0s 3ms/step - loss: 1.5614\n",
      "Epoch 294/500\n",
      "10/10 [==============================] - 0s 3ms/step - loss: 1.5329\n",
      "Epoch 295/500\n",
      "10/10 [==============================] - 0s 4ms/step - loss: 1.6279\n",
      "Epoch 296/500\n",
      "10/10 [==============================] - 0s 3ms/step - loss: 1.4687\n",
      "Epoch 297/500\n",
      "10/10 [==============================] - 0s 3ms/step - loss: 1.6895\n",
      "Epoch 298/500\n",
      "10/10 [==============================] - 0s 3ms/step - loss: 1.4995\n",
      "Epoch 299/500\n",
      "10/10 [==============================] - 0s 4ms/step - loss: 1.5625\n",
      "Epoch 300/500\n",
      "10/10 [==============================] - 0s 3ms/step - loss: 1.6727\n",
      "Epoch 301/500\n",
      "WARNING:tensorflow:Your input ran out of data; interrupting training. Make sure that your dataset or generator can generate at least `steps_per_epoch * epochs` batches (in this case, 5000 batches). You may need to use the repeat() function when building your dataset.\n"
     ]
    },
    {
     "name": "stdout",
     "output_type": "stream",
     "text": [
      "\r",
      "10/10 [==============================] - 2s 223ms/step - loss: 1.6727\n"
     ]
    },
    {
     "data": {
      "text/plain": [
       "<keras.callbacks.History at 0x25ac7c51570>"
      ]
     },
     "execution_count": 6,
     "metadata": {},
     "output_type": "execute_result"
    }
   ],
   "source": [
    "class myCallback(tf.keras.callbacks.Callback):\n",
    "    def on_epoch_end(self, epoch, logs={}):\n",
    "        if(logs.get('loss') < 1e-4):\n",
    "            self.model.stop_training = True\n",
    "            \n",
    "cb = myCallback()\n",
    "\n",
    "model.fit(x,y, epochs=500, steps_per_epoch=10, callbacks=cb)"
   ]
  },
  {
   "cell_type": "code",
   "execution_count": 7,
   "id": "834a8f31",
   "metadata": {},
   "outputs": [],
   "source": [
    "(x_train_raw, y_train_raw), (x_test_raw, y_test_raw) = datasets.fashion_mnist.load_data()"
   ]
  },
  {
   "cell_type": "code",
   "execution_count": 8,
   "id": "148a548b",
   "metadata": {},
   "outputs": [
    {
     "name": "stdout",
     "output_type": "stream",
     "text": [
      "9\n",
      "(60000, 28, 28)\n",
      "(10000, 28, 28)\n"
     ]
    }
   ],
   "source": [
    "print(y_train_raw[0])\n",
    "print(x_train_raw.shape)\n",
    "print(x_test_raw.shape)"
   ]
  },
  {
   "cell_type": "code",
   "execution_count": 9,
   "id": "715fb9dd",
   "metadata": {},
   "outputs": [
    {
     "name": "stdout",
     "output_type": "stream",
     "text": [
      "[0. 0. 0. 0. 0. 0. 0. 0. 0. 1.]\n"
     ]
    }
   ],
   "source": [
    "num_classes = 10\n",
    "y_train = tf.keras.utils.to_categorical(y_train_raw, num_classes)\n",
    "y_test = tf.keras.utils.to_categorical(y_test_raw, num_classes)\n",
    "print(y_train[0])"
   ]
  },
  {
   "cell_type": "code",
   "execution_count": 10,
   "id": "68043b7e",
   "metadata": {},
   "outputs": [
    {
     "data": {
      "image/png": "[encoded data removed]",
      "text/plain": [
       "<Figure size 640x480 with 9 Axes>"
      ]
     },
     "metadata": {},
     "output_type": "display_data"
    }
   ],
   "source": [
    "plt.figure()\n",
    "for i in range(9):\n",
    "    plt.subplot(3,3,i+1)\n",
    "    plt.imshow(x_train_raw[i])\n",
    "    plt.axis('off')\n",
    "plt.show()"
   ]
  },
  {
   "cell_type": "code",
   "execution_count": 11,
   "id": "3a635d84",
   "metadata": {},
   "outputs": [],
   "source": [
    "x_train = x_train_raw.reshape(60000, 784)\n",
    "x_test = x_test_raw.reshape(10000, 784)"
   ]
  },
  {
   "cell_type": "code",
   "execution_count": 12,
   "id": "da6504e4",
   "metadata": {},
   "outputs": [],
   "source": [
    "x_train = x_train.astype('float32')/255\n",
    "x_test = x_test.astype('float32')/255"
   ]
  },
  {
   "cell_type": "code",
   "execution_count": 13,
   "id": "28cfa454",
   "metadata": {},
   "outputs": [
    {
     "name": "stdout",
     "output_type": "stream",
     "text": [
      "Model: \"sequential_1\"\n",
      "_________________________________________________________________\n",
      " Layer (type)                Output Shape              Param #   \n",
      "=================================================================\n",
      " dense_1 (Dense)             (None, 512)               401920    \n",
      "                                                                 \n",
      " dense_2 (Dense)             (None, 256)               131328    \n",
      "                                                                 \n",
      " dense_3 (Dense)             (None, 124)               31868     \n",
      "                                                                 \n",
      " dense_4 (Dense)             (None, 128)               16000     \n",
      "                                                                 \n",
      " dense_5 (Dense)             (None, 10)                1290      \n",
      "                                                                 \n",
      "=================================================================\n",
      "Total params: 582,406\n",
      "Trainable params: 582,406\n",
      "Non-trainable params: 0\n",
      "_________________________________________________________________\n"
     ]
    }
   ],
   "source": [
    "model = tf.keras.Sequential([\n",
    "    tf.keras.layers.Dense(512, activation='relu', input_dim=784),\n",
    "    tf.keras.layers.Dense(256, activation='relu'),\n",
    "    tf.keras.layers.Dense(124, activation='relu'),\n",
    "    tf.keras.layers.Dense(128, activation='relu'),\n",
    "    tf.keras.layers.Dense(10, activation='softmax')\n",
    "])\n",
    "\n",
    "model.summary()"
   ]
  },
  {
   "cell_type": "code",
   "execution_count": 14,
   "id": "935a4dfe",
   "metadata": {},
   "outputs": [],
   "source": [
    "model.compile(optimizer='adam', loss='categorical_crossentropy', metrics=['accuracy'])"
   ]
  },
  {
   "cell_type": "code",
   "execution_count": 15,
   "id": "c0bbf928",
   "metadata": {},
   "outputs": [
    {
     "name": "stdout",
     "output_type": "stream",
     "text": [
      "Epoch 1/10\n",
      "469/469 [==============================] - 10s 17ms/step - loss: 0.5055 - accuracy: 0.8190 - val_loss: 0.4040 - val_accuracy: 0.8481\n",
      "Epoch 2/10\n",
      "469/469 [==============================] - 8s 16ms/step - loss: 0.3591 - accuracy: 0.8682 - val_loss: 0.3642 - val_accuracy: 0.8704\n",
      "Epoch 3/10\n",
      "469/469 [==============================] - 7s 16ms/step - loss: 0.3249 - accuracy: 0.8799 - val_loss: 0.3887 - val_accuracy: 0.8596\n",
      "Epoch 4/10\n",
      "469/469 [==============================] - 8s 16ms/step - loss: 0.2982 - accuracy: 0.8888 - val_loss: 0.3448 - val_accuracy: 0.8770\n",
      "Epoch 5/10\n",
      "469/469 [==============================] - 8s 16ms/step - loss: 0.2827 - accuracy: 0.8941 - val_loss: 0.3343 - val_accuracy: 0.8796\n",
      "Epoch 6/10\n",
      "469/469 [==============================] - 7s 16ms/step - loss: 0.2684 - accuracy: 0.8987 - val_loss: 0.3711 - val_accuracy: 0.8669\n",
      "Epoch 7/10\n",
      "469/469 [==============================] - 7s 16ms/step - loss: 0.2580 - accuracy: 0.9034 - val_loss: 0.3246 - val_accuracy: 0.8822\n",
      "Epoch 8/10\n",
      "469/469 [==============================] - 8s 16ms/step - loss: 0.2395 - accuracy: 0.9095 - val_loss: 0.3327 - val_accuracy: 0.8866\n",
      "Epoch 9/10\n",
      "469/469 [==============================] - 8s 16ms/step - loss: 0.2369 - accuracy: 0.9099 - val_loss: 0.3558 - val_accuracy: 0.8683\n",
      "Epoch 10/10\n",
      "469/469 [==============================] - 8s 16ms/step - loss: 0.2244 - accuracy: 0.9150 - val_loss: 0.3613 - val_accuracy: 0.8800\n"
     ]
    }
   ],
   "source": [
    "history = model.fit(x_train, y_train, epochs=10, batch_size=128, validation_data=[x_test, y_test])"
   ]
  },
  {
   "cell_type": "code",
   "execution_count": 16,
   "id": "719853e8",
   "metadata": {},
   "outputs": [
    {
     "data": {
      "image/png": "[encoded data removed]",
      "text/plain": [
       "<Figure size 640x480 with 1 Axes>"
      ]
     },
     "metadata": {},
     "output_type": "display_data"
    }
   ],
   "source": [
    "nilai_x = range(len(history.history['accuracy']))\n",
    "plt.plot(nilai_x, history.history['accuracy'], label='Training')\n",
    "plt.plot(nilai_x, history.history['val_accuracy'], label='Validation')\n",
    "plt.legend()\n",
    "plt.show()"
   ]
  },
  {
   "cell_type": "code",
   "execution_count": 17,
   "id": "22daa03d",
   "metadata": {},
   "outputs": [
    {
     "name": "stdout",
     "output_type": "stream",
     "text": [
      "313/313 [==============================] - 2s 6ms/step - loss: 0.3613 - accuracy: 0.8800\n"
     ]
    },
    {
     "data": {
      "text/plain": [
       "[0.36126115918159485, 0.8799999952316284]"
      ]
     },
     "execution_count": 17,
     "metadata": {},
     "output_type": "execute_result"
    }
   ],
   "source": [
    "model.evaluate(x_test, y_test)"
   ]
  },
  {
   "cell_type": "code",
   "execution_count": 18,
   "id": "020b07e1",
   "metadata": {},
   "outputs": [],
   "source": [
    "model.save('model/model.h5')"
   ]
  },
  {
   "cell_type": "code",
   "execution_count": 19,
   "id": "1973aaa8",
   "metadata": {},
   "outputs": [
    {
     "name": "stdout",
     "output_type": "stream",
     "text": [
      "Model: \"sequential_1\"\n",
      "_________________________________________________________________\n",
      " Layer (type)                Output Shape              Param #   \n",
      "=================================================================\n",
      " dense_1 (Dense)             (None, 512)               401920    \n",
      "                                                                 \n",
      " dense_2 (Dense)             (None, 256)               131328    \n",
      "                                                                 \n",
      " dense_3 (Dense)             (None, 124)               31868     \n",
      "                                                                 \n",
      " dense_4 (Dense)             (None, 128)               16000     \n",
      "                                                                 \n",
      " dense_5 (Dense)             (None, 10)                1290      \n",
      "                                                                 \n",
      "=================================================================\n",
      "Total params: 582,406\n",
      "Trainable params: 582,406\n",
      "Non-trainable params: 0\n",
      "_________________________________________________________________\n"
     ]
    }
   ],
   "source": [
    "model_saved = tf.keras.models.load_model('model/model.h5')\n",
    "model_saved.summary()"
   ]
  },
  {
   "cell_type": "code",
   "execution_count": 20,
   "id": "7e928900",
   "metadata": {},
   "outputs": [
    {
     "name": "stdout",
     "output_type": "stream",
     "text": [
      "313/313 [==============================] - 2s 6ms/step - loss: 0.3613 - accuracy: 0.8800\n"
     ]
    },
    {
     "data": {
      "text/plain": [
       "[0.36126115918159485, 0.8799999952316284]"
      ]
     },
     "execution_count": 20,
     "metadata": {},
     "output_type": "execute_result"
    }
   ],
   "source": [
    "model_saved.evaluate(x_test, y_test, batch_size=32)"
   ]
  },
  {
   "cell_type": "code",
   "execution_count": 21,
   "id": "d26c4fd2",
   "metadata": {},
   "outputs": [
    {
     "name": "stdout",
     "output_type": "stream",
     "text": [
      "313/313 [==============================] - 2s 6ms/step\n"
     ]
    }
   ],
   "source": [
    "hasil = model_saved.predict(x_test)"
   ]
  },
  {
   "cell_type": "code",
   "execution_count": 22,
   "id": "1218177a",
   "metadata": {},
   "outputs": [
    {
     "data": {
      "text/plain": [
       "(60000, 784)"
      ]
     },
     "execution_count": 22,
     "metadata": {},
     "output_type": "execute_result"
    }
   ],
   "source": [
    "x_train.shape"
   ]
  },
  {
   "cell_type": "code",
   "execution_count": 23,
   "id": "3b7b428b",
   "metadata": {},
   "outputs": [
    {
     "data": {
      "text/plain": [
       "array([0, 1, 2, 3, 4, 5, 6, 7, 8, 9], dtype=uint8)"
      ]
     },
     "execution_count": 23,
     "metadata": {},
     "output_type": "execute_result"
    }
   ],
   "source": [
    "np.unique(y_train_raw)"
   ]
  },
  {
   "cell_type": "code",
   "execution_count": 27,
   "id": "d260625c",
   "metadata": {},
   "outputs": [
    {
     "data": {
      "image/png": "[encoded data removed]",
      "text/plain": [
       "<Figure size 640x480 with 1 Axes>"
      ]
     },
     "metadata": {},
     "output_type": "display_data"
    }
   ],
   "source": [
    "label = np.argmax(hasil,axis=1)\n",
    "ActualLabel = np.argmax(y_test[22])\n",
    "\n",
    "img = x_test[2].reshape(28, 28)\n",
    "\n",
    "plt.title(f\"Aktual Label : {ActualLabel}, Predicted Label : {label[2]}\")\n",
    "plt.imshow(img)\n",
    "plt.show()"
   ]
  },
  {
   "cell_type": "code",
   "execution_count": 25,
   "id": "502cf32a",
   "metadata": {},
   "outputs": [
    {
     "data": {
      "image/png": "[encoded data removed]",
      "text/plain": [
       "<Figure size 1500x1500 with 9 Axes>"
      ]
     },
     "metadata": {},
     "output_type": "display_data"
    }
   ],
   "source": [
    "plt.figure(figsize=(15,15))\n",
    "for i in range(9):\n",
    "  plt.subplot(3,3,i+1)\n",
    "\n",
    "  ActualLabel = np.argmax(y_test[i])\n",
    "  plt.title(f\"Aktual Label : {ActualLabel}, Predicted Label : {label[i]}\")\n",
    "  plt.imshow(x_test[i].reshape(28, 28))\n",
    "  plt.axis('off')\n",
    "\n",
    "plt.show()"
   ]
  }
 ],
 "metadata": {
  "kernelspec": {
   "display_name": "Python 3 (ipykernel)",
   "language": "python",
   "name": "python3"
  },
  "language_info": {
   "codemirror_mode": {
    "name": "ipython",
    "version": 3
   },
   "file_extension": ".py",
   "mimetype": "text/x-python",
   "name": "python",
   "nbconvert_exporter": "python",
   "pygments_lexer": "ipython3",
   "version": "3.10.7"
  }
 },
 "nbformat": 4,
 "nbformat_minor": 5
}
