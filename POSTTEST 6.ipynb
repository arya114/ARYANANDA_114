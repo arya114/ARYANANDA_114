{
 "cells": [
  {
   "cell_type": "code",
   "execution_count": 1,
   "id": "6b2cbb7d",
   "metadata": {},
   "outputs": [],
   "source": [
    "import pandas as pd\n",
    "import seaborn as sns\n",
    "import numpy as np\n",
    "import matplotlib.pyplot as plt\n",
    "\n",
    "from sklearn.cluster import KMeans\n",
    "from sklearn.cluster import AgglomerativeClustering\n",
    "from scipy.cluster.hierarchy import dendrogram, linkage, complete\n",
    "\n",
    "import warnings\n",
    "warnings.filterwarnings('ignore')"
   ]
  },
  {
   "cell_type": "code",
   "execution_count": 2,
   "id": "05e66791",
   "metadata": {},
   "outputs": [
    {
     "data": {
      "text/html": [
       "<div>\n",
       "<style scoped>\n",
       "    .dataframe tbody tr th:only-of-type {\n",
       "        vertical-align: middle;\n",
       "    }\n",
       "\n",
       "    .dataframe tbody tr th {\n",
       "        vertical-align: top;\n",
       "    }\n",
       "\n",
       "    .dataframe thead th {\n",
       "        text-align: right;\n",
       "    }\n",
       "</style>\n",
       "<table border=\"1\" class=\"dataframe\">\n",
       "  <thead>\n",
       "    <tr style=\"text-align: right;\">\n",
       "      <th></th>\n",
       "      <th>Store</th>\n",
       "      <th>Date</th>\n",
       "      <th>Temperature</th>\n",
       "      <th>Fuel_Price</th>\n",
       "      <th>MarkDown1</th>\n",
       "      <th>MarkDown2</th>\n",
       "      <th>MarkDown3</th>\n",
       "      <th>MarkDown4</th>\n",
       "      <th>MarkDown5</th>\n",
       "      <th>CPI</th>\n",
       "      <th>Unemployment</th>\n",
       "      <th>IsHoliday</th>\n",
       "    </tr>\n",
       "  </thead>\n",
       "  <tbody>\n",
       "    <tr>\n",
       "      <th>0</th>\n",
       "      <td>1</td>\n",
       "      <td>2012-11-09</td>\n",
       "      <td>61.24</td>\n",
       "      <td>3.314</td>\n",
       "      <td>11421.32</td>\n",
       "      <td>3370.89</td>\n",
       "      <td>40.28</td>\n",
       "      <td>4646.79</td>\n",
       "      <td>6154.16</td>\n",
       "      <td>223.481307</td>\n",
       "      <td>6.573</td>\n",
       "      <td>False</td>\n",
       "    </tr>\n",
       "    <tr>\n",
       "      <th>1</th>\n",
       "      <td>1</td>\n",
       "      <td>2012-11-16</td>\n",
       "      <td>52.92</td>\n",
       "      <td>3.252</td>\n",
       "      <td>9696.28</td>\n",
       "      <td>292.10</td>\n",
       "      <td>103.78</td>\n",
       "      <td>1133.15</td>\n",
       "      <td>6612.69</td>\n",
       "      <td>223.512911</td>\n",
       "      <td>6.573</td>\n",
       "      <td>False</td>\n",
       "    </tr>\n",
       "    <tr>\n",
       "      <th>2</th>\n",
       "      <td>1</td>\n",
       "      <td>2012-11-23</td>\n",
       "      <td>56.23</td>\n",
       "      <td>3.211</td>\n",
       "      <td>883.59</td>\n",
       "      <td>4.17</td>\n",
       "      <td>74910.32</td>\n",
       "      <td>209.91</td>\n",
       "      <td>303.32</td>\n",
       "      <td>223.561947</td>\n",
       "      <td>6.573</td>\n",
       "      <td>True</td>\n",
       "    </tr>\n",
       "    <tr>\n",
       "      <th>3</th>\n",
       "      <td>1</td>\n",
       "      <td>2012-11-30</td>\n",
       "      <td>52.34</td>\n",
       "      <td>3.207</td>\n",
       "      <td>2460.03</td>\n",
       "      <td>NaN</td>\n",
       "      <td>3838.35</td>\n",
       "      <td>150.57</td>\n",
       "      <td>6966.34</td>\n",
       "      <td>223.610984</td>\n",
       "      <td>6.573</td>\n",
       "      <td>False</td>\n",
       "    </tr>\n",
       "    <tr>\n",
       "      <th>4</th>\n",
       "      <td>1</td>\n",
       "      <td>2012-12-07</td>\n",
       "      <td>64.12</td>\n",
       "      <td>3.198</td>\n",
       "      <td>6343.16</td>\n",
       "      <td>NaN</td>\n",
       "      <td>270.00</td>\n",
       "      <td>2928.90</td>\n",
       "      <td>10147.90</td>\n",
       "      <td>223.660021</td>\n",
       "      <td>6.573</td>\n",
       "      <td>False</td>\n",
       "    </tr>\n",
       "  </tbody>\n",
       "</table>\n",
       "</div>"
      ],
      "text/plain": [
       "   Store        Date  Temperature  Fuel_Price  MarkDown1  MarkDown2  \\\n",
       "0      1  2012-11-09        61.24       3.314   11421.32    3370.89   \n",
       "1      1  2012-11-16        52.92       3.252    9696.28     292.10   \n",
       "2      1  2012-11-23        56.23       3.211     883.59       4.17   \n",
       "3      1  2012-11-30        52.34       3.207    2460.03        NaN   \n",
       "4      1  2012-12-07        64.12       3.198    6343.16        NaN   \n",
       "\n",
       "   MarkDown3  MarkDown4  MarkDown5         CPI  Unemployment  IsHoliday  \n",
       "0      40.28    4646.79    6154.16  223.481307         6.573      False  \n",
       "1     103.78    1133.15    6612.69  223.512911         6.573      False  \n",
       "2   74910.32     209.91     303.32  223.561947         6.573       True  \n",
       "3    3838.35     150.57    6966.34  223.610984         6.573      False  \n",
       "4     270.00    2928.90   10147.90  223.660021         6.573      False  "
      ]
     },
     "execution_count": 2,
     "metadata": {},
     "output_type": "execute_result"
    }
   ],
   "source": [
    "df = pd.read_csv(\"features.csv\")\n",
    "df.head()"
   ]
  },
  {
   "cell_type": "code",
   "execution_count": null,
   "id": "a261dd0f",
   "metadata": {},
   "outputs": [],
   "source": [
    "df.info()"
   ]
  },
  {
   "cell_type": "code",
   "execution_count": null,
   "id": "013ee5f2",
   "metadata": {},
   "outputs": [],
   "source": [
    "standarirasi = df.copy()"
   ]
  },
  {
   "cell_type": "code",
   "execution_count": null,
   "id": "6e10c88d",
   "metadata": {},
   "outputs": [],
   "source": [
    "standarirasi.drop(['Store','Date'], axis=1, inplace=True)\n",
    "\n",
    "standarirasi"
   ]
  },
  {
   "cell_type": "code",
   "execution_count": null,
   "id": "fd60d5f4",
   "metadata": {},
   "outputs": [],
   "source": [
    "standarirasi_Iris = standarirasi.loc[:]\n",
    "standarirasi_Iris.head()"
   ]
  },
  {
   "cell_type": "code",
   "execution_count": null,
   "id": "95b6d62f",
   "metadata": {},
   "outputs": [],
   "source": [
    "model = KMeans(n_clusters=3)\n",
    "\n",
    "standarirasi_Iris[\"IsHoliday\"] = standarirasi_Iris.IsHoliday\n",
    "points = standarirasi_Iris[[\"Temperature\",\"Fuel_Price\"]]\n",
    "\n",
    "model.fit(points)\n",
    "\n",
    "labels = model.labels_ \n",
    "\n",
    "print(labels)"
   ]
  },
  {
   "cell_type": "code",
   "execution_count": null,
   "id": "38ae6be8",
   "metadata": {},
   "outputs": [],
   "source": [
    "plt.style.use('Solarize_Light2')\n",
    "\n",
    "ctr = model.cluster_centers_\n",
    "\n",
    "ctr_x = ctr[:,0]\n",
    "ctr_y = ctr[:,1]\n",
    "\n",
    "plt.figure(1, figsize=(7,5))\n",
    "plt.scatter(points[\"Temperature\"], points[\"Fuel_Price\"], alpha=1, c=labels)\n",
    "plt.scatter(ctr_x, ctr_y, marker=\"D\", s=50, label=\"Centroid\", c='red')\n",
    "\n",
    "plt.title(\"KMeans Clustering\")\n",
    "plt.xlabel(\"Temperature\")\n",
    "plt.ylabel(\"Fuel Price\")\n",
    "plt.legend()\n",
    "\n",
    "plt.show()"
   ]
  },
  {
   "cell_type": "code",
   "execution_count": null,
   "id": "4dd6ef18",
   "metadata": {},
   "outputs": [],
   "source": [
    "dsk_Iris = pd.DataFrame({\"labels\": labels,\"country\": standarirasi_Iris.IsHoliday})\n",
    "ct_Iris = pd.crosstab(dsk_Iris[\"labels\"], dsk_Iris[\"country\"])\n",
    "ct_Iris"
   ]
  }
 ],
 "metadata": {
  "kernelspec": {
   "display_name": "Python 3 (ipykernel)",
   "language": "python",
   "name": "python3"
  },
  "language_info": {
   "codemirror_mode": {
    "name": "ipython",
    "version": 3
   },
   "file_extension": ".py",
   "mimetype": "text/x-python",
   "name": "python",
   "nbconvert_exporter": "python",
   "pygments_lexer": "ipython3",
   "version": "3.10.7"
  }
 },
 "nbformat": 4,
 "nbformat_minor": 5
}
