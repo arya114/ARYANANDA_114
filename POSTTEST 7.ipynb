{
 "cells": [
  {
   "cell_type": "code",
   "execution_count": 1,
   "id": "0fc5676d",
   "metadata": {},
   "outputs": [],
   "source": [
    "import tensorflow as tf\n",
    "import numpy as np"
   ]
  },
  {
   "cell_type": "markdown",
   "id": "0916978d",
   "metadata": {},
   "source": [
    "1. Buatlah sebuah tensor dengan shape(5,5) dengan nilai random yang disimpan dalam variable random_tensor"
   ]
  },
  {
   "cell_type": "code",
   "execution_count": null,
   "id": "48afafa2",
   "metadata": {},
   "outputs": [],
   "source": [
    "random_tensor = tf.random.normal([5,5], mean=99)\n",
    "random_tensor.numpy()"
   ]
  },
  {
   "cell_type": "code",
   "execution_count": null,
   "id": "1f9ba921",
   "metadata": {},
   "outputs": [],
   "source": [
    "list_random_tensor = [[1,2,3,4,5],[6,7,8,9,10],[11,12,13,14,15],[16,17,18,19,20],[21,22,23,24,25]]\n",
    "\n",
    "convert_random_tensor = tf.convert_to_tensor(list_random_tensor)\n",
    "convert_random_tensor.numpy()"
   ]
  },
  {
   "cell_type": "code",
   "execution_count": null,
   "id": "aee1cd14",
   "metadata": {},
   "outputs": [],
   "source": [
    "slicing = tf.random.normal([5,5,5])\n",
    "slicing.numpy()"
   ]
  },
  {
   "cell_type": "code",
   "execution_count": null,
   "id": "baf61d9e",
   "metadata": {},
   "outputs": [],
   "source": [
    "slicing[2,2,2]"
   ]
  },
  {
   "cell_type": "code",
   "execution_count": null,
   "id": "ec5baabe",
   "metadata": {},
   "outputs": [],
   "source": [
    "slicing[2]"
   ]
  },
  {
   "cell_type": "code",
   "execution_count": null,
   "id": "854464f6",
   "metadata": {},
   "outputs": [],
   "source": [
    "tf.gather(slicing, indices=[2,2,2]).numpy()"
   ]
  },
  {
   "cell_type": "code",
   "execution_count": null,
   "id": "d5a794b7",
   "metadata": {},
   "outputs": [],
   "source": [
    "tf.gather_nd(slicing, indices=[[0,2],[1,2],[2,2],[3,2],[4,2]]).numpy()"
   ]
  },
  {
   "cell_type": "code",
   "execution_count": null,
   "id": "d5fe359e",
   "metadata": {},
   "outputs": [],
   "source": [
    "tf.gather_nd(slicing, indices=[[0,2,2],[1,2,2],[2,2,2],[3,2,2],[4,2,2]]).numpy()"
   ]
  },
  {
   "cell_type": "markdown",
   "id": "0b279abd",
   "metadata": {},
   "source": [
    "2. Buatlah sebuah tensor dengan shape(5,5) dari sebuah list dengan nilai bilangan prima dalam variable prime_tensor"
   ]
  },
  {
   "cell_type": "code",
   "execution_count": null,
   "id": "49260a0c",
   "metadata": {},
   "outputs": [],
   "source": [
    "list_prime = [[2, 3, 5, 7, 11],[13, 17, 19, 23, 29],[31, 37, 41, 43, 47],[53, 59, 61, 71, 73],[79, 83, 89, 97, 1]]\n",
    "\n",
    "prime_tensor = tf.constant(list_prime, dtype=tf.float32)\n",
    "prime_tensor.numpy()"
   ]
  },
  {
   "cell_type": "markdown",
   "id": "f8bad431",
   "metadata": {},
   "source": [
    "3. Tampilkan dimensi dari kedua variable tersebut"
   ]
  },
  {
   "cell_type": "code",
   "execution_count": null,
   "id": "3603d8ad",
   "metadata": {},
   "outputs": [],
   "source": [
    "random_tensor.shape"
   ]
  },
  {
   "cell_type": "code",
   "execution_count": null,
   "id": "e474ccee",
   "metadata": {},
   "outputs": [],
   "source": [
    "prime_tensor.shape"
   ]
  },
  {
   "cell_type": "markdown",
   "id": "2298072f",
   "metadata": {},
   "source": [
    "4. Tampilkan hasil dari perhitungan aritmetika 2 variable tersebut (Gunakan minimal 5 operator)"
   ]
  },
  {
   "cell_type": "code",
   "execution_count": null,
   "id": "59162932",
   "metadata": {},
   "outputs": [],
   "source": [
    "print(\"1. Penjumlahan :\",tf.add(prime_tensor,random_tensor))\n",
    "print(\"\\n2. Pengurangan :\",tf.subtract(prime_tensor,random_tensor))\n",
    "print(\"\\n3. Perkalian :\",tf.multiply(prime_tensor,random_tensor))\n",
    "print(\"\\n4. Pembagian :\",tf.divide(prime_tensor,random_tensor))\n",
    "print(\"\\n5. Pangkat :\",tf.pow(prime_tensor,random_tensor))\n",
    "print(\"\\n6. FloorDiv :\",tf.math.floordiv(prime_tensor,random_tensor))\n",
    "print(\"\\n7. FloorMod :\",tf.math.floormod(prime_tensor,random_tensor))\n",
    "print(\"\\n8. Greater :\",tf.math.greater(prime_tensor,random_tensor))\n",
    "print(\"\\n9. Setara :\",tf.equal(prime_tensor,random_tensor))\n",
    "print(\"\\n10. Tidak Setara :\",tf.not_equal(prime_tensor,random_tensor))\n",
    "print(\"\\n11. Greater Equal :\",tf.math.greater_equal(prime_tensor,random_tensor))\n",
    "print(\"\\n12. Less :\",tf.math.less(prime_tensor,random_tensor))\n",
    "print(\"\\n13. Less Equal :\",tf.math.less_equal(prime_tensor,random_tensor))\n",
    "print(\"\\n14. Maximum :\",tf.math.maximum(prime_tensor,random_tensor))\n",
    "print(\"\\n15. Minimum :\",tf.math.minimum(prime_tensor,random_tensor))\n",
    "print(\"\\n16. Kuadrat Perbedaan :\",tf.math.squared_difference(prime_tensor,random_tensor))\n",
    "print(\"\\n17. TrueDiv :\",tf.math.truediv(prime_tensor,random_tensor))\n",
    "print(\"\\n18. XdivY :\",tf.math.xdivy(prime_tensor,random_tensor))\n",
    "print(\"\\n19. Xlog1pY :\",tf.math.xlog1py(prime_tensor,random_tensor))\n",
    "print(\"\\n20. XlogY :\",tf.math.xlogy(prime_tensor,random_tensor))\n",
    "print(\"\\n21. Atan2 :\",tf.math.atan2(prime_tensor,random_tensor))"
   ]
  },
  {
   "cell_type": "markdown",
   "id": "659fe655",
   "metadata": {},
   "source": [
    "5. Tampilkan nilai maksimal dan minimal dari variable random_tensor"
   ]
  },
  {
   "cell_type": "code",
   "execution_count": null,
   "id": "d5cce67f",
   "metadata": {},
   "outputs": [],
   "source": [
    "tf.argmax(random_tensor, axis=0).numpy()#max baris random_tensor"
   ]
  },
  {
   "cell_type": "code",
   "execution_count": null,
   "id": "0e3d9972",
   "metadata": {},
   "outputs": [],
   "source": [
    "tf.argmax(random_tensor, axis=1).numpy()#max kolom random_tensor"
   ]
  },
  {
   "cell_type": "code",
   "execution_count": null,
   "id": "2f8acc4f",
   "metadata": {},
   "outputs": [],
   "source": [
    "tf.argmin(random_tensor, axis=0).numpy()#min baris random_tensor"
   ]
  },
  {
   "cell_type": "code",
   "execution_count": null,
   "id": "19326a28",
   "metadata": {},
   "outputs": [],
   "source": [
    "tf.argmin(random_tensor, axis=1).numpy()#min kolom random_tensor"
   ]
  },
  {
   "cell_type": "markdown",
   "id": "26d63a37",
   "metadata": {},
   "source": [
    "6. Tampilkan hasil dari penggabungan variable random_tensor dengan prime_tensor (concatenation)"
   ]
  },
  {
   "cell_type": "code",
   "execution_count": null,
   "id": "77aaf5c5",
   "metadata": {},
   "outputs": [],
   "source": [
    "tf.concat([random_tensor,prime_tensor], axis=0).numpy()#penggabungan baris"
   ]
  },
  {
   "cell_type": "code",
   "execution_count": null,
   "id": "ee37843f",
   "metadata": {},
   "outputs": [],
   "source": [
    "tf.concat([random_tensor,prime_tensor], axis=1).numpy()#penggabungan "
   ]
  },
  {
   "cell_type": "markdown",
   "id": "0dd0e984",
   "metadata": {},
   "source": [
    "7. Tampilkan hasil sorting dari kedua variable di atas. (descending)"
   ]
  }
 ],
 "metadata": {
  "kernelspec": {
   "display_name": "Python 3 (ipykernel)",
   "language": "python",
   "name": "python3"
  },
  "language_info": {
   "codemirror_mode": {
    "name": "ipython",
    "version": 3
   },
   "file_extension": ".py",
   "mimetype": "text/x-python",
   "name": "python",
   "nbconvert_exporter": "python",
   "pygments_lexer": "ipython3",
   "version": "3.10.7"
  }
 },
 "nbformat": 4,
 "nbformat_minor": 5
}
