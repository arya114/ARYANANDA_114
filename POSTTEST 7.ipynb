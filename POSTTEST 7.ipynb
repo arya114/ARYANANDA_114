{
 "cells": [
  {
   "cell_type": "code",
   "execution_count": 1,
   "id": "e6060ec4",
   "metadata": {},
   "outputs": [],
   "source": [
    "import tensorflow as tf\n",
    "import numpy as np"
   ]
  },
  {
   "cell_type": "markdown",
   "id": "7fab0dfe",
   "metadata": {},
   "source": [
    "1. Buatlah sebuah tensor dengan shape(5,5) dengan nilai random yang disimpan dalam variable random_tensor"
   ]
  },
  {
   "cell_type": "code",
   "execution_count": 2,
   "id": "d0185b8f",
   "metadata": {},
   "outputs": [
    {
     "data": {
      "text/plain": [
       "array([[ 98.44995 ,  98.13475 ,  98.4384  ,  99.32401 ,  98.8222  ],\n",
       "       [ 99.14626 ,  98.724205,  99.475746, 100.80914 ,  98.99398 ],\n",
       "       [100.745   ,  98.82984 , 100.19659 ,  98.40907 ,  99.08216 ],\n",
       "       [100.800255, 100.15229 ,  99.1667  ,  99.61637 ,  98.147705],\n",
       "       [ 96.76249 , 100.23268 ,  99.75576 ,  98.23361 ,  99.34358 ]],\n",
       "      dtype=float32)"
      ]
     },
     "execution_count": 2,
     "metadata": {},
     "output_type": "execute_result"
    }
   ],
   "source": [
    "random_tensor = tf.random.normal([5,5], mean=99)\n",
    "random_tensor.numpy()"
   ]
  },
  {
   "cell_type": "code",
   "execution_count": 3,
   "id": "f0a5efcd",
   "metadata": {},
   "outputs": [
    {
     "data": {
      "text/plain": [
       "array([[ 1,  2,  3,  4,  5],\n",
       "       [ 6,  7,  8,  9, 10],\n",
       "       [11, 12, 13, 14, 15],\n",
       "       [16, 17, 18, 19, 20],\n",
       "       [21, 22, 23, 24, 25]])"
      ]
     },
     "execution_count": 3,
     "metadata": {},
     "output_type": "execute_result"
    }
   ],
   "source": [
    "list_random_tensor = [[1,2,3,4,5],[6,7,8,9,10],[11,12,13,14,15],[16,17,18,19,20],[21,22,23,24,25]]\n",
    "\n",
    "convert_random_tensor = tf.convert_to_tensor(list_random_tensor)\n",
    "convert_random_tensor.numpy()"
   ]
  },
  {
   "cell_type": "code",
   "execution_count": 4,
   "id": "d6e10244",
   "metadata": {},
   "outputs": [
    {
     "data": {
      "text/plain": [
       "array([[[-1.1053212 , -0.5337032 , -0.70282155, -0.8248136 ,\n",
       "         -1.7229011 ],\n",
       "        [ 0.40025976, -0.05440984,  1.6747596 ,  0.9676441 ,\n",
       "         -0.02181014],\n",
       "        [-0.46783957, -0.741314  , -0.28194827, -0.5801647 ,\n",
       "         -0.8188098 ],\n",
       "        [ 1.0483968 ,  1.2658724 , -0.96203226,  2.0369697 ,\n",
       "         -0.2631096 ],\n",
       "        [ 1.0096521 ,  0.28039458, -1.629472  ,  0.05611019,\n",
       "         -0.7838548 ]],\n",
       "\n",
       "       [[-0.65902156,  2.039735  , -0.07684287,  0.06438361,\n",
       "          0.4470851 ],\n",
       "        [-1.6937996 , -0.91635734, -0.8866027 , -0.672463  ,\n",
       "         -0.96071   ],\n",
       "        [ 0.07430616,  2.1330352 ,  1.3413742 , -0.09889074,\n",
       "         -0.79081684],\n",
       "        [-1.0927182 , -0.6194207 ,  0.26277953, -2.2262342 ,\n",
       "         -0.8897241 ],\n",
       "        [ 0.6895671 , -0.8483094 ,  0.19402425,  1.7007039 ,\n",
       "          0.6872873 ]],\n",
       "\n",
       "       [[ 0.6689199 , -1.1495292 ,  0.5792773 ,  0.27640328,\n",
       "         -0.06564417],\n",
       "        [-1.5941949 ,  2.0128272 ,  0.06241494,  1.0458615 ,\n",
       "         -1.5728312 ],\n",
       "        [ 1.2187505 , -0.68857974,  0.41025075, -0.00828455,\n",
       "         -1.9592235 ],\n",
       "        [ 0.7179611 , -0.5801072 ,  0.5143691 ,  0.15416294,\n",
       "         -0.9147121 ],\n",
       "        [ 0.5397737 ,  0.0991725 , -0.63370335,  1.2948807 ,\n",
       "          0.13902326]],\n",
       "\n",
       "       [[-0.13529482,  0.9004902 , -1.0645263 , -0.00795729,\n",
       "          0.7204265 ],\n",
       "        [-0.8430142 , -0.23360272, -0.3789587 ,  0.7125145 ,\n",
       "         -0.79475856],\n",
       "        [-1.2367251 , -0.6109182 ,  0.0708511 , -0.58018696,\n",
       "         -1.1207387 ],\n",
       "        [ 0.22873569,  0.62099075, -0.43476754, -0.5708727 ,\n",
       "          0.32995167],\n",
       "        [-1.3067045 ,  0.828565  , -0.2712355 , -0.3289621 ,\n",
       "         -0.29261553]],\n",
       "\n",
       "       [[ 1.0701256 , -0.58731997, -0.40794295,  0.4965782 ,\n",
       "          0.42228717],\n",
       "        [-1.9563736 , -1.9081616 ,  0.33765006, -0.40365726,\n",
       "          0.87574965],\n",
       "        [ 1.2563078 ,  1.8026695 , -0.4926047 ,  0.11509959,\n",
       "          0.5461489 ],\n",
       "        [ 0.6999354 , -1.5905892 ,  1.4766008 , -0.35692897,\n",
       "          0.2541178 ],\n",
       "        [-1.6665967 ,  0.5942166 , -0.33412144,  0.4121925 ,\n",
       "         -0.89131147]]], dtype=float32)"
      ]
     },
     "execution_count": 4,
     "metadata": {},
     "output_type": "execute_result"
    }
   ],
   "source": [
    "slicing = tf.random.normal([5,5,5])\n",
    "slicing.numpy()"
   ]
  },
  {
   "cell_type": "code",
   "execution_count": 5,
   "id": "0c1be247",
   "metadata": {},
   "outputs": [
    {
     "data": {
      "text/plain": [
       "<tf.Tensor: shape=(), dtype=float32, numpy=0.41025075>"
      ]
     },
     "execution_count": 5,
     "metadata": {},
     "output_type": "execute_result"
    }
   ],
   "source": [
    "slicing[2,2,2]"
   ]
  },
  {
   "cell_type": "code",
   "execution_count": 6,
   "id": "9f4f44d4",
   "metadata": {},
   "outputs": [
    {
     "data": {
      "text/plain": [
       "<tf.Tensor: shape=(5, 5), dtype=float32, numpy=\n",
       "array([[ 0.6689199 , -1.1495292 ,  0.5792773 ,  0.27640328, -0.06564417],\n",
       "       [-1.5941949 ,  2.0128272 ,  0.06241494,  1.0458615 , -1.5728312 ],\n",
       "       [ 1.2187505 , -0.68857974,  0.41025075, -0.00828455, -1.9592235 ],\n",
       "       [ 0.7179611 , -0.5801072 ,  0.5143691 ,  0.15416294, -0.9147121 ],\n",
       "       [ 0.5397737 ,  0.0991725 , -0.63370335,  1.2948807 ,  0.13902326]],\n",
       "      dtype=float32)>"
      ]
     },
     "execution_count": 6,
     "metadata": {},
     "output_type": "execute_result"
    }
   ],
   "source": [
    "slicing[2]"
   ]
  },
  {
   "cell_type": "code",
   "execution_count": 7,
   "id": "b0a37b66",
   "metadata": {},
   "outputs": [
    {
     "data": {
      "text/plain": [
       "array([[[ 0.6689199 , -1.1495292 ,  0.5792773 ,  0.27640328,\n",
       "         -0.06564417],\n",
       "        [-1.5941949 ,  2.0128272 ,  0.06241494,  1.0458615 ,\n",
       "         -1.5728312 ],\n",
       "        [ 1.2187505 , -0.68857974,  0.41025075, -0.00828455,\n",
       "         -1.9592235 ],\n",
       "        [ 0.7179611 , -0.5801072 ,  0.5143691 ,  0.15416294,\n",
       "         -0.9147121 ],\n",
       "        [ 0.5397737 ,  0.0991725 , -0.63370335,  1.2948807 ,\n",
       "          0.13902326]],\n",
       "\n",
       "       [[ 0.6689199 , -1.1495292 ,  0.5792773 ,  0.27640328,\n",
       "         -0.06564417],\n",
       "        [-1.5941949 ,  2.0128272 ,  0.06241494,  1.0458615 ,\n",
       "         -1.5728312 ],\n",
       "        [ 1.2187505 , -0.68857974,  0.41025075, -0.00828455,\n",
       "         -1.9592235 ],\n",
       "        [ 0.7179611 , -0.5801072 ,  0.5143691 ,  0.15416294,\n",
       "         -0.9147121 ],\n",
       "        [ 0.5397737 ,  0.0991725 , -0.63370335,  1.2948807 ,\n",
       "          0.13902326]],\n",
       "\n",
       "       [[ 0.6689199 , -1.1495292 ,  0.5792773 ,  0.27640328,\n",
       "         -0.06564417],\n",
       "        [-1.5941949 ,  2.0128272 ,  0.06241494,  1.0458615 ,\n",
       "         -1.5728312 ],\n",
       "        [ 1.2187505 , -0.68857974,  0.41025075, -0.00828455,\n",
       "         -1.9592235 ],\n",
       "        [ 0.7179611 , -0.5801072 ,  0.5143691 ,  0.15416294,\n",
       "         -0.9147121 ],\n",
       "        [ 0.5397737 ,  0.0991725 , -0.63370335,  1.2948807 ,\n",
       "          0.13902326]]], dtype=float32)"
      ]
     },
     "execution_count": 7,
     "metadata": {},
     "output_type": "execute_result"
    }
   ],
   "source": [
    "tf.gather(slicing, indices=[2,2,2]).numpy()"
   ]
  },
  {
   "cell_type": "code",
   "execution_count": 8,
   "id": "c61b18e4",
   "metadata": {},
   "outputs": [
    {
     "data": {
      "text/plain": [
       "array([[-0.46783957, -0.741314  , -0.28194827, -0.5801647 , -0.8188098 ],\n",
       "       [ 0.07430616,  2.1330352 ,  1.3413742 , -0.09889074, -0.79081684],\n",
       "       [ 1.2187505 , -0.68857974,  0.41025075, -0.00828455, -1.9592235 ],\n",
       "       [-1.2367251 , -0.6109182 ,  0.0708511 , -0.58018696, -1.1207387 ],\n",
       "       [ 1.2563078 ,  1.8026695 , -0.4926047 ,  0.11509959,  0.5461489 ]],\n",
       "      dtype=float32)"
      ]
     },
     "execution_count": 8,
     "metadata": {},
     "output_type": "execute_result"
    }
   ],
   "source": [
    "tf.gather_nd(slicing, indices=[[0,2],[1,2],[2,2],[3,2],[4,2]]).numpy()"
   ]
  },
  {
   "cell_type": "code",
   "execution_count": 9,
   "id": "9eb62b36",
   "metadata": {},
   "outputs": [
    {
     "data": {
      "text/plain": [
       "array([-0.28194827,  1.3413742 ,  0.41025075,  0.0708511 , -0.4926047 ],\n",
       "      dtype=float32)"
      ]
     },
     "execution_count": 9,
     "metadata": {},
     "output_type": "execute_result"
    }
   ],
   "source": [
    "tf.gather_nd(slicing, indices=[[0,2,2],[1,2,2],[2,2,2],[3,2,2],[4,2,2]]).numpy()"
   ]
  },
  {
   "cell_type": "markdown",
   "id": "7c8fa053",
   "metadata": {},
   "source": [
    "2. Buatlah sebuah tensor dengan shape(5,5) dari sebuah list dengan nilai bilangan prima dalam variable prime_tensor"
   ]
  },
  {
   "cell_type": "code",
   "execution_count": 10,
   "id": "e15ebb78",
   "metadata": {},
   "outputs": [
    {
     "data": {
      "text/plain": [
       "array([[ 2.,  3.,  5.,  7., 11.],\n",
       "       [13., 17., 19., 23., 29.],\n",
       "       [31., 37., 41., 43., 47.],\n",
       "       [53., 59., 61., 71., 73.],\n",
       "       [79., 83., 89., 97.,  1.]], dtype=float32)"
      ]
     },
     "execution_count": 10,
     "metadata": {},
     "output_type": "execute_result"
    }
   ],
   "source": [
    "list_prime = [[2, 3, 5, 7, 11],[13, 17, 19, 23, 29],[31, 37, 41, 43, 47],[53, 59, 61, 71, 73],[79, 83, 89, 97, 1]]\n",
    "\n",
    "prime_tensor = tf.constant(list_prime, dtype=tf.float32)\n",
    "prime_tensor.numpy()"
   ]
  },
  {
   "cell_type": "markdown",
   "id": "8277a54c",
   "metadata": {},
   "source": [
    "3. Tampilkan dimensi dari kedua variable tersebut"
   ]
  },
  {
   "cell_type": "code",
   "execution_count": 11,
   "id": "3cbc22d2",
   "metadata": {},
   "outputs": [
    {
     "data": {
      "text/plain": [
       "TensorShape([5, 5])"
      ]
     },
     "execution_count": 11,
     "metadata": {},
     "output_type": "execute_result"
    }
   ],
   "source": [
    "random_tensor.shape"
   ]
  },
  {
   "cell_type": "code",
   "execution_count": 12,
   "id": "83aa535a",
   "metadata": {},
   "outputs": [
    {
     "data": {
      "text/plain": [
       "TensorShape([5, 5])"
      ]
     },
     "execution_count": 12,
     "metadata": {},
     "output_type": "execute_result"
    }
   ],
   "source": [
    "prime_tensor.shape"
   ]
  },
  {
   "cell_type": "markdown",
   "id": "c2224a8a",
   "metadata": {},
   "source": [
    "4. Tampilkan hasil dari perhitungan aritmetika 2 variable tersebut (Gunakan minimal 5 operator)"
   ]
  },
  {
   "cell_type": "code",
   "execution_count": 13,
   "id": "28643be1",
   "metadata": {},
   "outputs": [
    {
     "name": "stdout",
     "output_type": "stream",
     "text": [
      "1. Penjumlahan : tf.Tensor(\n",
      "[[100.44995  101.13475  103.4384   106.32401  109.8222  ]\n",
      " [112.14626  115.724205 118.475746 123.80914  127.99398 ]\n",
      " [131.745    135.82983  141.1966   141.40907  146.08215 ]\n",
      " [153.80026  159.15228  160.1667   170.61636  171.1477  ]\n",
      " [175.76248  183.23268  188.75577  195.23361  100.34358 ]], shape=(5, 5), dtype=float32)\n",
      "\n",
      "2. Pengurangan : tf.Tensor(\n",
      "[[-96.44995   -95.13475   -93.4384    -92.32401   -87.8222   ]\n",
      " [-86.14626   -81.724205  -80.475746  -77.80914   -69.99398  ]\n",
      " [-69.745     -61.82984   -59.196587  -55.409073  -52.08216  ]\n",
      " [-47.800255  -41.15229   -38.166702  -28.616371  -25.147705 ]\n",
      " [-17.76249   -17.232681  -10.75576    -1.2336121 -98.34358  ]], shape=(5, 5), dtype=float32)\n",
      "\n",
      "3. Perkalian : tf.Tensor(\n",
      "[[ 196.8999   294.40424  492.19202  695.26807 1087.0442 ]\n",
      " [1288.9014  1678.3115  1890.0392  2318.6104  2870.8254 ]\n",
      " [3123.095   3656.704   4108.06    4231.5903  4656.8613 ]\n",
      " [5342.4136  5908.9854  6049.169   7072.762   7164.782  ]\n",
      " [7644.237   8319.3125  8878.263   9528.66      99.34358]], shape=(5, 5), dtype=float32)\n",
      "\n",
      "4. Pembagian : tf.Tensor(\n",
      "[[0.02031489 0.03057021 0.05079319 0.07047641 0.11131103]\n",
      " [0.13111942 0.17219688 0.19100133 0.22815391 0.2929471 ]\n",
      " [0.30770758 0.37438086 0.40919557 0.43695158 0.4743538 ]\n",
      " [0.5257923  0.58910286 0.61512583 0.7127343  0.7437769 ]\n",
      " [0.81643206 0.8280732  0.8921791  0.9874421  0.01006608]], shape=(5, 5), dtype=float32)\n",
      "\n",
      "5. Pangkat : tf.Tensor(\n",
      "[[4.3290077e+29           inf           inf           inf           inf]\n",
      " [          inf           inf           inf           inf           inf]\n",
      " [          inf           inf           inf           inf           inf]\n",
      " [          inf           inf           inf           inf           inf]\n",
      " [          inf           inf           inf           inf 1.0000000e+00]], shape=(5, 5), dtype=float32)\n",
      "\n",
      "6. FloorDiv : tf.Tensor(\n",
      "[[0. 0. 0. 0. 0.]\n",
      " [0. 0. 0. 0. 0.]\n",
      " [0. 0. 0. 0. 0.]\n",
      " [0. 0. 0. 0. 0.]\n",
      " [0. 0. 0. 0. 0.]], shape=(5, 5), dtype=float32)\n",
      "\n",
      "7. FloorMod : tf.Tensor(\n",
      "[[ 2.  3.  5.  7. 11.]\n",
      " [13. 17. 19. 23. 29.]\n",
      " [31. 37. 41. 43. 47.]\n",
      " [53. 59. 61. 71. 73.]\n",
      " [79. 83. 89. 97.  1.]], shape=(5, 5), dtype=float32)\n",
      "\n",
      "8. Greater : tf.Tensor(\n",
      "[[False False False False False]\n",
      " [False False False False False]\n",
      " [False False False False False]\n",
      " [False False False False False]\n",
      " [False False False False False]], shape=(5, 5), dtype=bool)\n",
      "\n",
      "9. Setara : tf.Tensor(\n",
      "[[False False False False False]\n",
      " [False False False False False]\n",
      " [False False False False False]\n",
      " [False False False False False]\n",
      " [False False False False False]], shape=(5, 5), dtype=bool)\n",
      "\n",
      "10. Tidak Setara : tf.Tensor(\n",
      "[[ True  True  True  True  True]\n",
      " [ True  True  True  True  True]\n",
      " [ True  True  True  True  True]\n",
      " [ True  True  True  True  True]\n",
      " [ True  True  True  True  True]], shape=(5, 5), dtype=bool)\n",
      "\n",
      "11. Greater Equal : tf.Tensor(\n",
      "[[False False False False False]\n",
      " [False False False False False]\n",
      " [False False False False False]\n",
      " [False False False False False]\n",
      " [False False False False False]], shape=(5, 5), dtype=bool)\n",
      "\n",
      "12. Less : tf.Tensor(\n",
      "[[ True  True  True  True  True]\n",
      " [ True  True  True  True  True]\n",
      " [ True  True  True  True  True]\n",
      " [ True  True  True  True  True]\n",
      " [ True  True  True  True  True]], shape=(5, 5), dtype=bool)\n",
      "\n",
      "13. Less Equal : tf.Tensor(\n",
      "[[ True  True  True  True  True]\n",
      " [ True  True  True  True  True]\n",
      " [ True  True  True  True  True]\n",
      " [ True  True  True  True  True]\n",
      " [ True  True  True  True  True]], shape=(5, 5), dtype=bool)\n",
      "\n",
      "14. Maximum : tf.Tensor(\n",
      "[[ 98.44995   98.13475   98.4384    99.32401   98.8222  ]\n",
      " [ 99.14626   98.724205  99.475746 100.80914   98.99398 ]\n",
      " [100.745     98.82984  100.19659   98.40907   99.08216 ]\n",
      " [100.800255 100.15229   99.1667    99.61637   98.147705]\n",
      " [ 96.76249  100.23268   99.75576   98.23361   99.34358 ]], shape=(5, 5), dtype=float32)\n",
      "\n",
      "15. Minimum : tf.Tensor(\n",
      "[[ 2.  3.  5.  7. 11.]\n",
      " [13. 17. 19. 23. 29.]\n",
      " [31. 37. 41. 43. 47.]\n",
      " [53. 59. 61. 71. 73.]\n",
      " [79. 83. 89. 97.  1.]], shape=(5, 5), dtype=float32)\n",
      "\n",
      "16. Kuadrat Perbedaan : tf.Tensor(\n",
      "[[9.3025928e+03 9.0506211e+03 8.7307344e+03 8.5237236e+03 7.7127383e+03]\n",
      " [7.4211787e+03 6.6788457e+03 6.4763457e+03 6.0542627e+03 4.8991572e+03]\n",
      " [4.8643652e+03 3.8229292e+03 3.5042358e+03 3.0701653e+03 2.7125515e+03]\n",
      " [2.2848643e+03 1.6935110e+03 1.4566971e+03 8.1889673e+02 6.3240704e+02]\n",
      " [3.1550601e+02 2.9696530e+02 1.1568638e+02 1.5217987e+00 9.6714600e+03]], shape=(5, 5), dtype=float32)\n",
      "\n",
      "17. TrueDiv : tf.Tensor(\n",
      "[[0.02031489 0.03057021 0.05079319 0.07047641 0.11131103]\n",
      " [0.13111942 0.17219688 0.19100133 0.22815391 0.2929471 ]\n",
      " [0.30770758 0.37438086 0.40919557 0.43695158 0.4743538 ]\n",
      " [0.5257923  0.58910286 0.61512583 0.7127343  0.7437769 ]\n",
      " [0.81643206 0.8280732  0.8921791  0.9874421  0.01006608]], shape=(5, 5), dtype=float32)\n",
      "\n",
      "18. XdivY : tf.Tensor(\n",
      "[[0.02031489 0.03057021 0.05079319 0.07047641 0.11131103]\n",
      " [0.13111942 0.17219688 0.19100133 0.22815391 0.2929471 ]\n",
      " [0.30770758 0.37438086 0.40919557 0.43695158 0.4743538 ]\n",
      " [0.5257923  0.58910286 0.61512583 0.7127343  0.7437769 ]\n",
      " [0.81643206 0.8280732  0.8921791  0.9874421  0.01006608]], shape=(5, 5), dtype=float32)\n",
      "\n",
      "19. Xlog1pY : tf.Tensor(\n",
      "[[  9.199309  13.78944   22.997692  32.258835  50.6373  ]\n",
      " [ 59.88621   78.240944  87.58841  106.3313   133.54819 ]\n",
      " [143.29657  170.32828  189.29967  197.76747  216.4816  ]\n",
      " [245.01967  272.381    281.017    327.40335  335.55258 ]\n",
      " [362.02075  383.246    410.53024  445.95526    4.6086  ]], shape=(5, 5), dtype=float32)\n",
      "\n",
      "20. XlogY : tf.Tensor(\n",
      "[[  9.179096  13.759024  22.947155  32.18871   50.526546]\n",
      " [ 59.755753  78.06961   87.39837  106.10427  133.25671 ]\n",
      " [142.99037  169.95578  188.8925   197.33273  216.00961 ]\n",
      " [244.49648  271.79483  280.40494  326.69418  334.81256 ]\n",
      " [361.2085   382.42203  409.64252  444.9728     4.598584]], shape=(5, 5), dtype=float32)\n",
      "\n",
      "21. Atan2 : tf.Tensor(\n",
      "[[0.0203121  0.03056069 0.05074957 0.07036007 0.11085469]\n",
      " [0.13037565 0.17052455 0.18872821 0.22431435 0.28497374]\n",
      " [0.29851288 0.35822773 0.38840836 0.41195002 0.44292095]\n",
      " [0.48406792 0.53236836 0.55146724 0.6192214  0.63950646]\n",
      " [0.6846805  0.6916259  0.7284773  0.7790796  0.01006574]], shape=(5, 5), dtype=float32)\n"
     ]
    }
   ],
   "source": [
    "print(\"1. Penjumlahan :\",tf.add(prime_tensor,random_tensor))\n",
    "print(\"\\n2. Pengurangan :\",tf.subtract(prime_tensor,random_tensor))\n",
    "print(\"\\n3. Perkalian :\",tf.multiply(prime_tensor,random_tensor))\n",
    "print(\"\\n4. Pembagian :\",tf.divide(prime_tensor,random_tensor))\n",
    "print(\"\\n5. Pangkat :\",tf.pow(prime_tensor,random_tensor))\n",
    "print(\"\\n6. FloorDiv :\",tf.math.floordiv(prime_tensor,random_tensor))\n",
    "print(\"\\n7. FloorMod :\",tf.math.floormod(prime_tensor,random_tensor))\n",
    "print(\"\\n8. Greater :\",tf.math.greater(prime_tensor,random_tensor))\n",
    "print(\"\\n9. Setara :\",tf.equal(prime_tensor,random_tensor))\n",
    "print(\"\\n10. Tidak Setara :\",tf.not_equal(prime_tensor,random_tensor))\n",
    "print(\"\\n11. Greater Equal :\",tf.math.greater_equal(prime_tensor,random_tensor))\n",
    "print(\"\\n12. Less :\",tf.math.less(prime_tensor,random_tensor))\n",
    "print(\"\\n13. Less Equal :\",tf.math.less_equal(prime_tensor,random_tensor))\n",
    "print(\"\\n14. Maximum :\",tf.math.maximum(prime_tensor,random_tensor))\n",
    "print(\"\\n15. Minimum :\",tf.math.minimum(prime_tensor,random_tensor))\n",
    "print(\"\\n16. Kuadrat Perbedaan :\",tf.math.squared_difference(prime_tensor,random_tensor))\n",
    "print(\"\\n17. TrueDiv :\",tf.math.truediv(prime_tensor,random_tensor))\n",
    "print(\"\\n18. XdivY :\",tf.math.xdivy(prime_tensor,random_tensor))\n",
    "print(\"\\n19. Xlog1pY :\",tf.math.xlog1py(prime_tensor,random_tensor))\n",
    "print(\"\\n20. XlogY :\",tf.math.xlogy(prime_tensor,random_tensor))\n",
    "print(\"\\n21. Atan2 :\",tf.math.atan2(prime_tensor,random_tensor))"
   ]
  },
  {
   "cell_type": "markdown",
   "id": "06eca77b",
   "metadata": {},
   "source": [
    "5. Tampilkan nilai maksimal dan minimal dari variable random_tensor"
   ]
  },
  {
   "cell_type": "code",
   "execution_count": 14,
   "id": "3608b72a",
   "metadata": {},
   "outputs": [
    {
     "data": {
      "text/plain": [
       "array([3, 4, 2, 1, 4], dtype=int64)"
      ]
     },
     "execution_count": 14,
     "metadata": {},
     "output_type": "execute_result"
    }
   ],
   "source": [
    "tf.argmax(random_tensor, axis=0).numpy()#max baris random_tensor"
   ]
  },
  {
   "cell_type": "code",
   "execution_count": 15,
   "id": "57a725ba",
   "metadata": {},
   "outputs": [
    {
     "data": {
      "text/plain": [
       "array([3, 3, 0, 0, 1], dtype=int64)"
      ]
     },
     "execution_count": 15,
     "metadata": {},
     "output_type": "execute_result"
    }
   ],
   "source": [
    "tf.argmax(random_tensor, axis=1).numpy()#max kolom random_tensor"
   ]
  },
  {
   "cell_type": "code",
   "execution_count": 16,
   "id": "99ff4928",
   "metadata": {},
   "outputs": [
    {
     "data": {
      "text/plain": [
       "array([4, 0, 0, 4, 3], dtype=int64)"
      ]
     },
     "execution_count": 16,
     "metadata": {},
     "output_type": "execute_result"
    }
   ],
   "source": [
    "tf.argmin(random_tensor, axis=0).numpy()#min baris random_tensor"
   ]
  },
  {
   "cell_type": "code",
   "execution_count": 17,
   "id": "cec40c26",
   "metadata": {},
   "outputs": [
    {
     "data": {
      "text/plain": [
       "array([1, 1, 3, 4, 0], dtype=int64)"
      ]
     },
     "execution_count": 17,
     "metadata": {},
     "output_type": "execute_result"
    }
   ],
   "source": [
    "tf.argmin(random_tensor, axis=1).numpy()#min kolom random_tensor"
   ]
  },
  {
   "cell_type": "markdown",
   "id": "9440db7e",
   "metadata": {},
   "source": [
    "6. Tampilkan hasil dari penggabungan variable random_tensor dengan prime_tensor (concatenation)"
   ]
  },
  {
   "cell_type": "code",
   "execution_count": 18,
   "id": "e132ad21",
   "metadata": {},
   "outputs": [
    {
     "data": {
      "text/plain": [
       "array([[ 98.44995 ,  98.13475 ,  98.4384  ,  99.32401 ,  98.8222  ],\n",
       "       [ 99.14626 ,  98.724205,  99.475746, 100.80914 ,  98.99398 ],\n",
       "       [100.745   ,  98.82984 , 100.19659 ,  98.40907 ,  99.08216 ],\n",
       "       [100.800255, 100.15229 ,  99.1667  ,  99.61637 ,  98.147705],\n",
       "       [ 96.76249 , 100.23268 ,  99.75576 ,  98.23361 ,  99.34358 ],\n",
       "       [  2.      ,   3.      ,   5.      ,   7.      ,  11.      ],\n",
       "       [ 13.      ,  17.      ,  19.      ,  23.      ,  29.      ],\n",
       "       [ 31.      ,  37.      ,  41.      ,  43.      ,  47.      ],\n",
       "       [ 53.      ,  59.      ,  61.      ,  71.      ,  73.      ],\n",
       "       [ 79.      ,  83.      ,  89.      ,  97.      ,   1.      ]],\n",
       "      dtype=float32)"
      ]
     },
     "execution_count": 18,
     "metadata": {},
     "output_type": "execute_result"
    }
   ],
   "source": [
    "tf.concat([random_tensor,prime_tensor], axis=0).numpy()#penggabungan baris"
   ]
  },
  {
   "cell_type": "code",
   "execution_count": 19,
   "id": "5ee6b86c",
   "metadata": {},
   "outputs": [
    {
     "data": {
      "text/plain": [
       "array([[ 98.44995 ,  98.13475 ,  98.4384  ,  99.32401 ,  98.8222  ,\n",
       "          2.      ,   3.      ,   5.      ,   7.      ,  11.      ],\n",
       "       [ 99.14626 ,  98.724205,  99.475746, 100.80914 ,  98.99398 ,\n",
       "         13.      ,  17.      ,  19.      ,  23.      ,  29.      ],\n",
       "       [100.745   ,  98.82984 , 100.19659 ,  98.40907 ,  99.08216 ,\n",
       "         31.      ,  37.      ,  41.      ,  43.      ,  47.      ],\n",
       "       [100.800255, 100.15229 ,  99.1667  ,  99.61637 ,  98.147705,\n",
       "         53.      ,  59.      ,  61.      ,  71.      ,  73.      ],\n",
       "       [ 96.76249 , 100.23268 ,  99.75576 ,  98.23361 ,  99.34358 ,\n",
       "         79.      ,  83.      ,  89.      ,  97.      ,   1.      ]],\n",
       "      dtype=float32)"
      ]
     },
     "execution_count": 19,
     "metadata": {},
     "output_type": "execute_result"
    }
   ],
   "source": [
    "tf.concat([random_tensor,prime_tensor], axis=1).numpy()#penggabungan "
   ]
  },
  {
   "cell_type": "markdown",
   "id": "d332cbd8",
   "metadata": {},
   "source": [
    "7. Tampilkan hasil sorting dari kedua variable di atas. (descending)"
   ]
  },
  {
   "cell_type": "code",
   "execution_count": 20,
   "id": "24020c1c",
   "metadata": {},
   "outputs": [
    {
     "data": {
      "text/plain": [
       "array([[ 99.32401 ,  98.8222  ,  98.44995 ,  98.4384  ,  98.13475 ],\n",
       "       [100.80914 ,  99.475746,  99.14626 ,  98.99398 ,  98.724205],\n",
       "       [100.745   , 100.19659 ,  99.08216 ,  98.82984 ,  98.40907 ],\n",
       "       [100.800255, 100.15229 ,  99.61637 ,  99.1667  ,  98.147705],\n",
       "       [100.23268 ,  99.75576 ,  99.34358 ,  98.23361 ,  96.76249 ]],\n",
       "      dtype=float32)"
      ]
     },
     "execution_count": 20,
     "metadata": {},
     "output_type": "execute_result"
    }
   ],
   "source": [
    "sort_random_tensor1 = tf.sort(random_tensor, direction=\"DESCENDING\")\n",
    "sort_random_tensor1.numpy()"
   ]
  },
  {
   "cell_type": "code",
   "execution_count": 21,
   "id": "4c64b106",
   "metadata": {},
   "outputs": [
    {
     "data": {
      "text/plain": [
       "array([[3, 4, 0, 2, 1],\n",
       "       [3, 2, 0, 4, 1],\n",
       "       [0, 2, 4, 1, 3],\n",
       "       [0, 1, 3, 2, 4],\n",
       "       [1, 2, 4, 3, 0]])"
      ]
     },
     "execution_count": 21,
     "metadata": {},
     "output_type": "execute_result"
    }
   ],
   "source": [
    "sort_random_tensor2 = tf.argsort(random_tensor, direction=\"DESCENDING\")\n",
    "sort_random_tensor2.numpy()"
   ]
  },
  {
   "cell_type": "code",
   "execution_count": 22,
   "id": "6c5ecfd1",
   "metadata": {},
   "outputs": [
    {
     "data": {
      "text/plain": [
       "array([[11.,  7.,  5.,  3.,  2.],\n",
       "       [29., 23., 19., 17., 13.],\n",
       "       [47., 43., 41., 37., 31.],\n",
       "       [73., 71., 61., 59., 53.],\n",
       "       [97., 89., 83., 79.,  1.]], dtype=float32)"
      ]
     },
     "execution_count": 22,
     "metadata": {},
     "output_type": "execute_result"
    }
   ],
   "source": [
    "sort_prime_tensor1 = tf.sort(prime_tensor, direction=\"DESCENDING\")\n",
    "sort_prime_tensor1.numpy()"
   ]
  },
  {
   "cell_type": "code",
   "execution_count": 23,
   "id": "ad7a5f4e",
   "metadata": {},
   "outputs": [
    {
     "data": {
      "text/plain": [
       "array([[4, 3, 2, 1, 0],\n",
       "       [4, 3, 2, 1, 0],\n",
       "       [4, 3, 2, 1, 0],\n",
       "       [4, 3, 2, 1, 0],\n",
       "       [3, 2, 1, 0, 4]])"
      ]
     },
     "execution_count": 23,
     "metadata": {},
     "output_type": "execute_result"
    }
   ],
   "source": [
    "sort_prime_tensor2 = tf.argsort(prime_tensor, direction=\"DESCENDING\")\n",
    "sort_prime_tensor2.numpy()"
   ]
  }
 ],
 "metadata": {
  "kernelspec": {
   "display_name": "Python 3 (ipykernel)",
   "language": "python",
   "name": "python3"
  },
  "language_info": {
   "codemirror_mode": {
    "name": "ipython",
    "version": 3
   },
   "file_extension": ".py",
   "mimetype": "text/x-python",
   "name": "python",
   "nbconvert_exporter": "python",
   "pygments_lexer": "ipython3",
   "version": "3.10.7"
  }
 },
 "nbformat": 4,
 "nbformat_minor": 5
}
